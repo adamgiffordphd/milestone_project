{
 "cells": [
  {
   "cell_type": "code",
   "execution_count": null,
   "metadata": {},
   "outputs": [],
   "source": [
    "import pandas as pd\n",
    "data_dir = '/Users/adamgifford/Documents/DataScience/DataIncubator/Winter 2021/12_Day_Challenge/data/'"
   ]
  },
  {
   "cell_type": "code",
   "execution_count": null,
   "metadata": {},
   "outputs": [],
   "source": [
    "files_dct = {}\n",
    "files_dct['daily'] = 'daily_IBM.csv'\n",
    "files_dct['daily_adj'] = 'daily_adjusted_IBM.csv'\n",
    "files_dct['intraday'] = 'intraday_5min_IBM.csv'\n",
    "files_dct['monthly'] = 'monthly_IBM.csv'"
   ]
  },
  {
   "cell_type": "code",
   "execution_count": null,
   "metadata": {},
   "outputs": [],
   "source": [
    "def load_file(data_dir,filename):\n",
    "    df = pd.read_csv(data_dir + filename)\n",
    "    return df"
   ]
  },
  {
   "cell_type": "code",
   "execution_count": null,
   "metadata": {},
   "outputs": [],
   "source": [
    "df = load_file(data_dir,files_dct['daily'])"
   ]
  },
  {
   "cell_type": "code",
   "execution_count": null,
   "metadata": {},
   "outputs": [],
   "source": [
    "df.head()"
   ]
  },
  {
   "cell_type": "code",
   "execution_count": null,
   "metadata": {},
   "outputs": [],
   "source": [
    "df.dtypes"
   ]
  },
  {
   "cell_type": "code",
   "execution_count": null,
   "metadata": {},
   "outputs": [],
   "source": [
    "df['timestamp'] = pd.to_datetime(df['timestamp'])"
   ]
  },
  {
   "cell_type": "code",
   "execution_count": null,
   "metadata": {},
   "outputs": [],
   "source": [
    "df.head()"
   ]
  },
  {
   "cell_type": "code",
   "execution_count": null,
   "metadata": {},
   "outputs": [],
   "source": [
    "import numpy as numpy\n",
    "from bokeh.io import output_notebook, show\n",
    "from bokeh.resources import INLINE\n",
    "from bokeh.plotting import figure\n",
    "from bokeh.models.glyphs import Line\n",
    "output_notebook()"
   ]
  },
  {
   "cell_type": "code",
   "execution_count": null,
   "metadata": {},
   "outputs": [],
   "source": [
    "colors_dict = {}\n",
    "colors_dict['open'] = 'firebrick'\n",
    "colors_dict['close'] = 'navy'\n",
    "colors_dict['adj_open'] = 'indianred'\n",
    "colors_dict['adj_close'] = 'darkslateblue'"
   ]
  },
  {
   "cell_type": "code",
   "execution_count": null,
   "metadata": {},
   "outputs": [],
   "source": [
    "import json\n",
    "def get_key(json_file='alpha_vantage_config.json',json_key='alpha_vantage_info'):\n",
    "    with open(json_file) as f:\n",
    "        data = json.load(f)\n",
    "    \n",
    "    user_values = data[json_key]\n",
    "    return user_values['api_key']"
   ]
  },
  {
   "cell_type": "code",
   "execution_count": null,
   "metadata": {},
   "outputs": [],
   "source": [
    "json_file = '/Users/adamgifford/Documents/DataScience/DataIncubator/Winter 2021/12_Day_Challenge/alpha_vantage_config.json'\n",
    "key = get_key(json_file=json_file)"
   ]
  },
  {
   "cell_type": "code",
   "execution_count": null,
   "metadata": {},
   "outputs": [],
   "source": [
    "base_url = 'https://www.alphavantage.co/query?function=TIME_SERIES_DAILY'\n",
    "adj_base_url = 'https://www.alphavantage.co/query?function=TIME_SERIES_DAILY_ADJUSTED'"
   ]
  },
  {
   "cell_type": "code",
   "execution_count": null,
   "metadata": {},
   "outputs": [],
   "source": [
    "# app.vars['symbol'] = request.form['symbol']\n",
    "# # open           = option1\n",
    "# # close          = option2\n",
    "# # adjusted close = option3\n",
    "# app.vars['open'] = request.form.get('option1')\n",
    "# app.vars['close'] = request.form.get('option2')\n",
    "# app.vars['ajd_close'] = request.form.get('option3')\n",
    "\n",
    "appvars = {}\n",
    "appvars['symbol'] = 'IBM'\n",
    "appvars['close'] = 'close'\n",
    "appvars['ajd_close'] = None\n",
    "appvars['open'] = 'open'\n",
    "appvars['adj_open'] = None"
   ]
  },
  {
   "cell_type": "code",
   "execution_count": null,
   "metadata": {},
   "outputs": [],
   "source": []
  },
  {
   "cell_type": "code",
   "execution_count": null,
   "metadata": {},
   "outputs": [],
   "source": []
  },
  {
   "cell_type": "code",
   "execution_count": null,
   "metadata": {},
   "outputs": [],
   "source": [
    "import requests\n",
    "# get daily adjusted price from alphavantage\n",
    "ticker = 'GOOG'\n",
    "url = 'https://www.alphavantage.co/query?function=TIME_SERIES_DAILY_ADJUSTED&symbol={}&apikey={}'.format(ticker, key)\n",
    "response = requests.get(url).json()"
   ]
  },
  {
   "cell_type": "code",
   "execution_count": null,
   "metadata": {},
   "outputs": [],
   "source": []
  },
  {
   "cell_type": "code",
   "execution_count": null,
   "metadata": {},
   "outputs": [],
   "source": [
    "from bokeh.models.tools import HoverTool\n",
    "from bokeh.models import ColumnDataSource, CrosshairTool\n",
    "from bokeh.models.callbacks import CustomJS\n",
    "import numpy as np\n",
    "\n",
    "to_plot = ['open', 'close']\n",
    "ymin = min(df[['open','close']].min())\n",
    "ymax = max(df[['open','close']].max())\n",
    "\n",
    "TOOLS = 'box_zoom,reset'\n",
    "# create a new plot (with a title) using figure\n",
    "p = figure(x_axis_type=\"datetime\", title=\"Stock Open & Close\", plot_height=350, plot_width=700, tools=TOOLS)\n",
    "\n",
    "l1 = p.line(df.timestamp, df.open, line_width=2, line_color=colors_dict['open'], alpha = 0.5)\n",
    "l2 = p.line(df.timestamp, df.close, line_width=2, line_color=colors_dict['close'], alpha = 0.5)\n",
    "\n",
    "# # add a hover tool that sets the link data for a hovered circle\n",
    "# code = \"\"\"\n",
    "# const links = %s\n",
    "# const data = {'x0': [], 'y0': [], 'x1': [], 'y1': []}\n",
    "# const indices = cb_data.index.indices\n",
    "# for (var i = 0; i < indices.length; i++) {\n",
    "#     const start = indices[i]\n",
    "#     for (var j = 0; j < links[start].length; j++) {\n",
    "#         const end = links[start][j]\n",
    "#         data['x0'].push(circle.data.x[start])\n",
    "#         data['y0'].push(circle.data.y[start])\n",
    "#         data['x1'].push(circle.data.x[end])\n",
    "#         data['y1'].push(circle.data.y[end])\n",
    "#     }\n",
    "# }\n",
    "# segment.data = data\n",
    "# \"\"\" % links\n",
    "\n",
    "# callback = CustomJS(args={'circle': cr.data_source, 'segment': sr.data_source}, code=code)\n",
    "\n",
    "js = '''\n",
    "var geometry = cb_data['geometry'];\n",
    "console.log(geometry);\n",
    "var data = line_source.data;\n",
    "var x = data['x'];\n",
    "console.log(x);\n",
    "if (isFinite(geometry.x)) {\n",
    "  for (i = 0; i < x.length; i++) {\n",
    "    x[i] = geometry.x;\n",
    "  }\n",
    "  line_source.change.emit();\n",
    "}\n",
    "'''\n",
    "\n",
    "source = ColumnDataSource(dict(\n",
    "        x0=[df['timestamp'].min()],\n",
    "        x1=[df['timestamp'].min()],\n",
    "        y0=[ymin],\n",
    "        y1=[ymax],\n",
    "        op=df[df['timestamp']==df['timestamp'].min()]['open'].values,\n",
    "        cl=df[df['timestamp']==df['timestamp'].min()]['close'].values,\n",
    "    )\n",
    ")\n",
    "\n",
    "vl = p.segment('x0', 'y0', 'x1', 'y1', line_color='black', line_width=2, source=source)\n",
    "\n",
    "js = '''\n",
    "var geometry = cb_data['geometry']\n",
    "var data = source.data;\n",
    "var new_data = {'x0': [], 'y0': [], 'x1': [], 'y1': [], 'op': [], 'cl': []}\n",
    "new_data['x0'] = geometry['x'];\n",
    "new_data['x1'] = geometry['x'];\n",
    "new_data['y0'] = data['y0'];\n",
    "new_data['y1'] = data['y1'];\n",
    "new_data['op'] = data['op'];\n",
    "new_data['cl'] = data['cl'];\n",
    "source.data=new_data;\n",
    "'''\n",
    "callback = CustomJS(code=js, args={'source': source})\n",
    "\n",
    "tips = [(\"(x,y)\",'($x,$y)'),(\"date\",'@x0{%F}'),(\"open\",'@op'),(\"close\",'@cl')]\n",
    "# hover = HoverTool(tooltips=tips, mode='hline', point_policy='follow_mouse', renderers=[vl], formatters = {'@x0':'datetime'})\n",
    "hover = HoverTool(tooltips=tips, mode='hline', point_policy='follow_mouse', renderers=[vl], formatters = {'@x0':'datetime'}, callback=callback)\n",
    "p.add_tools(hover)\n",
    "\n",
    "# source.js_on_change('data', callback)\n",
    "# s1.selected.js_on_change('indices', callback)\n",
    "show(p) # show the results"
   ]
  },
  {
   "cell_type": "code",
   "execution_count": null,
   "metadata": {},
   "outputs": [],
   "source": [
    "from bokeh.models.tools import HoverTool\n",
    "from bokeh.models import ColumnDataSource, CrosshairTool\n",
    "from bokeh.models.callbacks import CustomJS\n",
    "import numpy as np\n",
    "\n",
    "to_plot = ['open', 'close']\n",
    "\n",
    "# source = ColumnDataSource(data=df)\n",
    "source = ColumnDataSource({'xs': [df['timestamp'], df['timestamp']], \n",
    "                           'ys': [df['open'], df['close']], \n",
    "                           'colors': [colors_dict['open'], colors_dict['close']]\n",
    "                          })\n",
    "\n",
    "TOOLS = 'box_zoom,reset'\n",
    "# create a new plot (with a title) using figure\n",
    "p = figure(x_axis_type=\"datetime\", title=\"Stock Open & Close\", plot_height=350, plot_width=700, tools=TOOLS)\n",
    "\n",
    "l = p.multi_line(xs='xs',ys='ys', line_color='colors', line_width=2, alpha=0.5, source=source)\n",
    "\n",
    "tips = [(\"date\",'@xs'),(\"(open, close)\",'@ys')]\n",
    "hover = HoverTool(tooltips=None, mode='vline', point_policy='snap_to_data', line_policy='nearest', renderers=[l])\n",
    "p.add_tools(hover)\n",
    "\n",
    "# source.js_on_change('data', callback)\n",
    "# s1.selected.js_on_change('indices', callback)\n",
    "show(p) # show the results"
   ]
  },
  {
   "cell_type": "code",
   "execution_count": null,
   "metadata": {},
   "outputs": [],
   "source": [
    "import bokeh\n",
    "bokeh.__version__"
   ]
  },
  {
   "cell_type": "code",
   "execution_count": null,
   "metadata": {},
   "outputs": [],
   "source": [
    "df[df['timestamp']==df['timestamp'].min()]['open']"
   ]
  },
  {
   "cell_type": "code",
   "execution_count": null,
   "metadata": {},
   "outputs": [],
   "source": [
    "df.head()"
   ]
  },
  {
   "cell_type": "code",
   "execution_count": null,
   "metadata": {},
   "outputs": [],
   "source": [
    "source.data['y']"
   ]
  },
  {
   "cell_type": "code",
   "execution_count": null,
   "metadata": {},
   "outputs": [],
   "source": [
    "df['open_color'] = 'firebrick'\n",
    "df['open_hover_color'] = 'red'\n",
    "\n",
    "df['close_color'] = 'navy'\n",
    "df['close_hover_color'] = 'blue'\n",
    "\n",
    "df['width'] = 2\n",
    "df['alpha'] = 0.4\n",
    "df['hover_alpha'] = 1\n",
    "df.head()"
   ]
  },
  {
   "cell_type": "markdown",
   "metadata": {},
   "source": [
    "source.column_names"
   ]
  },
  {
   "cell_type": "code",
   "execution_count": null,
   "metadata": {},
   "outputs": [],
   "source": [
    "[5]*10"
   ]
  },
  {
   "cell_type": "code",
   "execution_count": null,
   "metadata": {},
   "outputs": [],
   "source": [
    "from bokeh.models.tools import HoverTool\n",
    "from bokeh.models import ColumnDataSource\n",
    "import numpy as np\n",
    "\n",
    "source = ColumnDataSource(data=df)\n",
    "ymin = min(df[['open','close']].min())\n",
    "ymax = max(df[['open','close']].max())\n",
    "\n",
    "df['x'] = df['timestamp'][0]\n",
    "df['y'] = np.linspace(ymin,ymax,len(df))\n",
    "\n",
    "# create a new plot (with a title) using figure\n",
    "p = figure(x_axis_type=\"datetime\", title=\"Stock Open & Close\", plot_height=350, plot_width=700)\n",
    "\n",
    "# add a line renderer\n",
    "# l1 = p.line('timestamp', 'open', line_width=2, line_color=\"firebrick\", hover_line_color=\"red\",\n",
    "#             hover_alpha = 1, alpha = 0.4, source = df)\n",
    "# l2 = p.line('timestamp', 'close', line_width=2, line_color=\"navy\", hover_line_color=\"blue\",\n",
    "#             hover_alpha = 1, alpha = 0.4, source = df)\n",
    "# l3 = p.line([df.timestamp[0]]*100,np.linspace(ymin, ymax, 100), line_color = 'black',\n",
    "#             line_width=2)\n",
    "\n",
    "l1 = p.multi_line(xs=[df.timestamp, df.timestamp], ys=[df.open, df.close], \n",
    "                color=[\"firebrick\", \"navy\"], line_alpha=[0.4, 0.4],\n",
    "                line_width=[2, 2])\n",
    "s2 = ColumnDataSource(data={x=[df['timestamp'][0]]*len(df), y= \\\n",
    "\n",
    "\n",
    "[0.5, 0.5]})\n",
    "l2 = p.line([df.timestamp[0]]*100,np.linspace(ymin, ymax, 100), line_color = 'black',\n",
    "            line_width=2)\n",
    "\n",
    "js = '''\n",
    "var geometry = cb_data['geometry'];\n",
    "console.log(geometry);\n",
    "var data = line_source.data;\n",
    "var x = data['x'];\n",
    "console.log(x);\n",
    "if (isFinite(geometry.x)) {\n",
    "  for (i = 0; i < x.length; i++) {\n",
    "    x[i] = geometry.x;\n",
    "  }\n",
    "  line_source.change.emit();\n",
    "}\n",
    "'''\n",
    "\n",
    "# hover = HoverTool(tooltips=None, \n",
    "#                       point_policy='follow_mouse', \n",
    "#                       callback=CustomJS(code=js, args={'line_source': line_source}))\n",
    "\n",
    "# l = p.multi_line(xs=[df.timestamp, df.timestamp], ys=[df.open, df.close], \n",
    "#                 color=[\"firebrick\", \"navy\"], line_alpha=[0.4, 0.4],\n",
    "#                 line_width=[2, 2])\n",
    "\n",
    "# p.add_tools(HoverTool(tooltips=[(\"date\",'@xs{%F}'),(\"open, close\",'@ys')],             renderers=[l], mode='vline', formatters = {'@timestamp':'datetime'}))\n",
    "# p.add_tools(HoverTool(tooltips=[(\"date\",'@timestamp{%F}'),(\"open\",'@open'),(\"close\",'@close')], renderers=[l1], mode='vline', formatters = {'@timestamp':'datetime'}))\n",
    "# p.add_tools(HoverTool(tooltips=[(\"close\",\"@close\")], renderers=[l2], mode='vline', formatters = {'@timestamp':'datetime'}, anchor='bottom_right'))\n",
    "\n",
    "show(p) # show the results"
   ]
  },
  {
   "cell_type": "code",
   "execution_count": null,
   "metadata": {},
   "outputs": [],
   "source": [
    "l"
   ]
  },
  {
   "cell_type": "code",
   "execution_count": null,
   "metadata": {},
   "outputs": [],
   "source": [
    "h.show+"
   ]
  },
  {
   "cell_type": "code",
   "execution_count": null,
   "metadata": {},
   "outputs": [],
   "source": [
    "l.data_source.data['xs'][0]"
   ]
  },
  {
   "cell_type": "code",
   "execution_count": null,
   "metadata": {},
   "outputs": [],
   "source": [
    "foo"
   ]
  },
  {
   "cell_type": "code",
   "execution_count": null,
   "metadata": {},
   "outputs": [],
   "source": [
    "from bokeh.io import show, output_file, save, show\n",
    "from bokeh.layouts import column\n",
    "from bokeh.plotting import figure\n",
    "from bokeh.models.sources import ColumnDataSource\n",
    "from bokeh.models.tools import HoverTool\n",
    "from bokeh.models.callbacks import CustomJS\n",
    "\n",
    "# output_file(\"cross_hair.html\")\n",
    "\n",
    "x = list(range(12))\n",
    "y = [v**2 for v in x]\n",
    "\n",
    "NUM_PLOTS = 3\n",
    "\n",
    "# Define a DataSource\n",
    "data = dict(x=[0]*NUM_PLOTS)\n",
    "\n",
    "line_source = ColumnDataSource(data=data)\n",
    "\n",
    "js = '''\n",
    "var geometry = cb_data['geometry'];\n",
    "console.log(geometry);\n",
    "var data = line_source.data;\n",
    "var x = data['x'];\n",
    "console.log(x);\n",
    "if (isFinite(geometry.x)) {\n",
    "  for (i = 0; i < x.length; i++) {\n",
    "    x[i] = geometry.x;\n",
    "  }\n",
    "  line_source.change.emit();\n",
    "}\n",
    "'''\n",
    "\n",
    "\n",
    "plots = []\n",
    "for i in range(NUM_PLOTS):\n",
    "    plot = figure(plot_width=250, plot_height=250, title=None)\n",
    "    plot.segment(x0='x', y0=0, x1='x', y1=200, color='red', line_width=1, source=line_source)\n",
    "    plot.circle(x, y, size=10, color=\"navy\", alpha=0.5)\n",
    "    hover = HoverTool(tooltips=None, \n",
    "                      point_policy='follow_mouse', \n",
    "                      callback=CustomJS(code=js, args={'line_source': line_source}))\n",
    "    plot.add_tools(hover)\n",
    "    plots.append(plot)\n",
    "\n",
    "show(column(*plots))"
   ]
  },
  {
   "cell_type": "code",
   "execution_count": null,
   "metadata": {},
   "outputs": [],
   "source": [
    "from bokeh.models import ColumnDataSource, CustomJS, HoverTool\n",
    "from bokeh.plotting import figure, show\n",
    "\n",
    "# define some points and a little graph between them\n",
    "x = [2, 3, 5, 6, 8, 7]\n",
    "y = [6, 4, 3, 8, 7, 5]\n",
    "links = {\n",
    "    0: [1, 2],\n",
    "    1: [0, 3, 4],\n",
    "    2: [0, 5],\n",
    "    3: [1, 4],\n",
    "    4: [1, 3],\n",
    "    5: [2, 3, 4]\n",
    "}\n",
    "\n",
    "p = figure(plot_width=400, plot_height=400, tools=\"\", toolbar_location=None, title='Hover over points')\n",
    "\n",
    "source = ColumnDataSource({'x0': [], 'y0': [], 'x1': [], 'y1': []})\n",
    "sr = p.segment(x0='x0', y0='y0', x1='x1', y1='y1', color='olive', alpha=0.6, line_width=3, source=source, )\n",
    "cr = p.circle(x, y, color='olive', size=30, alpha=0.4, hover_color='olive', hover_alpha=1.0)\n",
    "\n",
    "# add a hover tool that sets the link data for a hovered circle\n",
    "code = \"\"\"\n",
    "const links = %s\n",
    "const data = {'x0': [], 'y0': [], 'x1': [], 'y1': []}\n",
    "const indices = cb_data.index.indices\n",
    "for (var i = 0; i < indices.length; i++) {\n",
    "    const start = indices[i]\n",
    "    for (var j = 0; j < links[start].length; j++) {\n",
    "        const end = links[start][j]\n",
    "        data['x0'].push(circle.data.x[start])\n",
    "        data['y0'].push(circle.data.y[start])\n",
    "        data['x1'].push(circle.data.x[end])\n",
    "        data['y1'].push(circle.data.y[end])\n",
    "    }\n",
    "}\n",
    "segment.data = data\n",
    "\"\"\" % links\n",
    "\n",
    "callback = CustomJS(args={'circle': cr.data_source, 'segment': sr.data_source}, code=code)\n",
    "p.add_tools(HoverTool(tooltips=None, callback=callback, renderers=[cr]))\n",
    "\n",
    "show(p)"
   ]
  },
  {
   "cell_type": "code",
   "execution_count": null,
   "metadata": {},
   "outputs": [],
   "source": [
    "import numpy as np\n",
    "import pandas as pd\n",
    "from bokeh.io import show\n",
    "from bokeh.plotting import figure\n",
    "from bokeh.models import ColumnDataSource, HoverTool\n",
    "from datetime import datetime\n",
    "\n",
    "df2 = pd.DataFrame(data = np.random.rand(10, 3),\n",
    "columns = ('Argentina', 'Turkey' , 'Mexico'),\n",
    "index = pd.DatetimeIndex(df['timestamp'][:10]))\n",
    "\n",
    "source = ColumnDataSource({'date': [df2.index.values] * len(df2.columns),\n",
    "'countries': ['Argentina', 'Turkey' , 'Mexico'],\n",
    "'data': [df2[name].values for name in df2],\n",
    "'colors': ['red', 'green', 'blue']})\n",
    "\n",
    "p = figure(plot_width = 1000, x_axis_type = 'datetime', tools = 'hover')\n",
    "multilines = p.multi_line(xs = 'date', ys = 'data', color = 'colors', source = source)\n",
    "circles1 = p.circle(df2.index.values, df2['Argentina'].values, color = 'red', size = 8)\n",
    "circles2 = p.circle(df2.index.values, df2['Turkey'].values, color = 'green', size = 8)\n",
    "circles3 = p.circle(df2.index.values, df2['Mexico'].values, color = 'blue', size = 8)\n",
    "\n",
    "hover = p.select(dict(type = HoverTool))\n",
    "hover.renderers = [multilines]\n",
    "hover.tooltips = [('Date', '@x{%F}'), ('Value', '@y')]\n",
    "hover.formatters = {'x': 'datetime', 'y': 'printf'}\n",
    "\n",
    "show(p)"
   ]
  },
  {
   "cell_type": "code",
   "execution_count": null,
   "metadata": {},
   "outputs": [],
   "source": [
    "from bokeh.plotting import figure, show, ColumnDataSource\n",
    "from bokeh.models import HoverTool\n",
    "        \n",
    "source = ColumnDataSource(\n",
    "                data=dict(\n",
    "                    x=[[1, 3, 2], [3, 4, 6, 6]],\n",
    "                    y=[[2, 1, 4], [4, 7, 8, 5]],\n",
    "                    desc=['a', 'b'],\n",
    "                )\n",
    "            )\n",
    "        \n",
    "hover = HoverTool(\n",
    "                tooltips=[\n",
    "                    (\"index\", \"$index\"),\n",
    "                    (\"(x,y)\", \"($x, $y)\"),\n",
    "                    (\"desc\", \"@desc\"),\n",
    "                ],\n",
    "            mode='hline')\n",
    "        \n",
    "p = figure(plot_width=400, plot_height=400, tools=[hover],\n",
    "                   title=\"Mouse over the dots\")\n",
    "        \n",
    "p.multi_line('x', 'y', line_width=2, source=source)\n",
    "       \n",
    "show(p)"
   ]
  },
  {
   "cell_type": "code",
   "execution_count": null,
   "metadata": {},
   "outputs": [],
   "source": [
    "import numpy as np\n",
    "from bokeh.io import show\n",
    "from bokeh.models import ColumnDataSource, HoverTool, CustomJS\n",
    "from bokeh.plotting import figure\n",
    "from bokeh.layouts import column\n",
    "\n",
    "source1 = ColumnDataSource(data={\"freq\":np.random.uniform(2, 10, 10), \"amp\":np.random.uniform(-2, 2, 10)})\n",
    "source2 = ColumnDataSource(data={\"x\":np.linspace(-5, 5, 200), \"y\":np.zeros(200)})\n",
    "\n",
    "fig1 = figure(plot_height=200)\n",
    "fig2 = figure(plot_height=200)\n",
    "circle = fig1.circle(\"freq\", \"amp\", source=source1, size=10)\n",
    "line = fig2.line(\"x\", \"y\", source=source2)\n",
    "\n",
    "def callback(source1=source1, source2=source2):\n",
    "    indices = cb_data.index[\"1d\"].indices\n",
    "    if len(indices) > 0:\n",
    "        i = indices[0]\n",
    "        f = source1.data.freq[i]\n",
    "        a = source1.data.amp[i]\n",
    "        for j in range(len(source2.data.x)):\n",
    "            source2.data.y[j] = a * Math.sin(f * source2.data.x[j])\n",
    "        source2.change.emit()\n",
    "\n",
    "hover = HoverTool(callback=CustomJS.from_py_func(callback))\n",
    "fig1.add_tools(hover)\n",
    "\n",
    "show(column(fig1, fig2))"
   ]
  },
  {
   "cell_type": "code",
   "execution_count": null,
   "metadata": {},
   "outputs": [],
   "source": []
  }
 ],
 "metadata": {
  "kernelspec": {
   "display_name": "base",
   "language": "python",
   "name": "base"
  },
  "language_info": {
   "codemirror_mode": {
    "name": "ipython",
    "version": 3
   },
   "file_extension": ".py",
   "mimetype": "text/x-python",
   "name": "python",
   "nbconvert_exporter": "python",
   "pygments_lexer": "ipython3",
   "version": "3.8.3"
  }
 },
 "nbformat": 4,
 "nbformat_minor": 4
}
