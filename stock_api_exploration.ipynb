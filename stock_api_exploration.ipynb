{
 "cells": [
  {
   "cell_type": "code",
   "execution_count": null,
   "metadata": {},
   "outputs": [],
   "source": [
    "import pandas as pd\n",
    "import numpy as np\n",
    "from bokeh.io import output_notebook, show\n",
    "from bokeh.plotting import figure\n",
    "import json\n",
    "import requests\n",
    "import pandas as pd\n",
    "from bokeh.models.tools import HoverTool\n",
    "\n",
    "output_notebook()"
   ]
  },
  {
   "cell_type": "code",
   "execution_count": null,
   "metadata": {},
   "outputs": [],
   "source": [
    "colors_dict = {}\n",
    "colors_dict['open'] = 'red'\n",
    "colors_dict['close'] = 'blue'\n",
    "colors_dict['adj_close'] = 'navy'"
   ]
  },
  {
   "cell_type": "code",
   "execution_count": null,
   "metadata": {},
   "outputs": [],
   "source": [
    "def get_key(json_file='alpha_vantage_config.json',json_key='alpha_vantage_info'):\n",
    "    with open(json_file) as f:\n",
    "        data = json.load(f)\n",
    "    \n",
    "    user_values = data[json_key]\n",
    "    return user_values['api_key']"
   ]
  },
  {
   "cell_type": "code",
   "execution_count": null,
   "metadata": {},
   "outputs": [],
   "source": [
    "json_file = '/Users/adamgifford/Documents/DataScience/DataIncubator/Winter 2021/12_Day_Challenge/alpha_vantage_config.json'\n",
    "api_key = get_key(json_file=json_file)"
   ]
  },
  {
   "cell_type": "code",
   "execution_count": null,
   "metadata": {},
   "outputs": [],
   "source": []
  },
  {
   "cell_type": "code",
   "execution_count": null,
   "metadata": {},
   "outputs": [],
   "source": [
    "appvars = {}\n",
    "appvars['symbol'] = 'IBM'\n",
    "appvars['open'] = 'Open'\n",
    "appvars['close'] = 'Close'\n",
    "# appvars['adj_close'] = 'Adjusted Close'\n",
    "appvars['adj_close'] = None"
   ]
  },
  {
   "cell_type": "code",
   "execution_count": null,
   "metadata": {},
   "outputs": [],
   "source": []
  },
  {
   "cell_type": "code",
   "execution_count": null,
   "metadata": {},
   "outputs": [],
   "source": [
    "def get_url(dict_key, dict_val):\n",
    "    base_url = 'https://www.alphavantage.co/query?function=TIME_SERIES_DAILY'\n",
    "    adj_base_url = 'https://www.alphavantage.co/query?function=TIME_SERIES_DAILY_ADJUSTED'\n",
    "\n",
    "    if dict_val is not None:\n",
    "        if 'adj' in dict_key:\n",
    "            return adj_base_url\n",
    "        else:\n",
    "            return base_url"
   ]
  },
  {
   "cell_type": "code",
   "execution_count": null,
   "metadata": {},
   "outputs": [],
   "source": [
    "def fetch_response(symbol,api_key,url):\n",
    "    url_search = '&symbol={}&apikey={}'.format(symbol, api_key)\n",
    "    url = url + url_search\n",
    "    return requests.get(url).json()"
   ]
  },
  {
   "cell_type": "code",
   "execution_count": null,
   "metadata": {},
   "outputs": [],
   "source": [
    "dict_key = 'adj_close'\n",
    "url = get_url(dict_key,appvars[dict_key])\n",
    "url"
   ]
  },
  {
   "cell_type": "code",
   "execution_count": null,
   "metadata": {},
   "outputs": [],
   "source": [
    "response = fetch_response('IBM',api_key,url)"
   ]
  },
  {
   "cell_type": "code",
   "execution_count": null,
   "metadata": {},
   "outputs": [],
   "source": [
    "def make_df(response):\n",
    "    df = pd.DataFrame.from_dict(response['Time Series (Daily)'], orient='index')\n",
    "    df.rename(columns=lambda x: x[3:], inplace=True)\n",
    "    df.index = pd.to_datetime(df.index)\n",
    "    df.sort_index(ascending=False,inplace=True)\n",
    "    df.reset_index(inplace=True)\n",
    "    df.rename(columns={'index': 'date'}, inplace=True)\n",
    "    return df"
   ]
  },
  {
   "cell_type": "code",
   "execution_count": null,
   "metadata": {},
   "outputs": [],
   "source": [
    "df = make_df(response)"
   ]
  },
  {
   "cell_type": "code",
   "execution_count": null,
   "metadata": {},
   "outputs": [],
   "source": []
  },
  {
   "cell_type": "code",
   "execution_count": null,
   "metadata": {},
   "outputs": [],
   "source": [
    "def create_title(appvars):\n",
    "    title_str = ''\n",
    "    for key,val in appvars.items():\n",
    "        if key=='symbol':\n",
    "            title_str = title_str + appvars['symbol'] + ' stock: '\n",
    "        else:\n",
    "            if appvars[key] is not None:\n",
    "                title_str = title_str + appvars[key] + ', '\n",
    "\n",
    "    title_str = title_str.split(',')\n",
    "    title_str[-2] = '& ' + title_str[-2].strip()\n",
    "    title_str = ', '.join(title_str)\n",
    "    title_str = title_str[:-3]\n",
    "    return title_str"
   ]
  },
  {
   "cell_type": "code",
   "execution_count": null,
   "metadata": {},
   "outputs": [],
   "source": [
    "title_str = create_title(appvars)\n",
    "title_str"
   ]
  },
  {
   "cell_type": "code",
   "execution_count": null,
   "metadata": {},
   "outputs": [],
   "source": [
    "df.head()"
   ]
  },
  {
   "cell_type": "code",
   "execution_count": null,
   "metadata": {},
   "outputs": [],
   "source": [
    "from datetime import date, timedelta\n",
    "right = pd.to_datetime(date.today().strftime(\"%Y-%m-%d\"))\n",
    "d = date.today() - timedelta(days=30)\n",
    "left = pd.to_datetime(d.strftime(\"%Y-%m-%d\"))\n",
    "left,right"
   ]
  },
  {
   "cell_type": "code",
   "execution_count": null,
   "metadata": {},
   "outputs": [],
   "source": [
    "dur = right-left\n",
    "int(dur.total_seconds() * 1e9)"
   ]
  },
  {
   "cell_type": "code",
   "execution_count": null,
   "metadata": {},
   "outputs": [],
   "source": [
    "foo = df['date'].astype(int)"
   ]
  },
  {
   "cell_type": "code",
   "execution_count": null,
   "metadata": {},
   "outputs": [],
   "source": [
    "1.609e12"
   ]
  },
  {
   "cell_type": "code",
   "execution_count": null,
   "metadata": {},
   "outputs": [],
   "source": [
    "24*60*60*1000*1000*1000"
   ]
  },
  {
   "cell_type": "code",
   "execution_count": null,
   "metadata": {},
   "outputs": [],
   "source": [
    "tips = [(\"Date\",'@date{%F}')]"
   ]
  },
  {
   "cell_type": "code",
   "execution_count": null,
   "metadata": {},
   "outputs": [],
   "source": [
    "tips.append((\"Open\",'@open'))\n",
    "tips"
   ]
  },
  {
   "cell_type": "code",
   "execution_count": null,
   "metadata": {},
   "outputs": [],
   "source": [
    "def make_line(df,handle,dict_val,color):\n",
    "    if dict_val is not None:\n",
    "        l = handle.line('date', dict_val.lower(), line_width=2, line_color=color, alpha = 0.5, legend_label=dict_val.lower(), source=df)\n",
    "        ytip = (dict_val.title(), '@{' + dict_val.lower() + '}')\n",
    "        return l, ytip\n",
    "    \n",
    "    return None,None"
   ]
  },
  {
   "cell_type": "code",
   "execution_count": null,
   "metadata": {},
   "outputs": [],
   "source": [
    "TOOLS = 'box_zoom,reset'\n",
    "# create a new plot (with a title) using figure\n",
    "p = figure(x_axis_type=\"datetime\", title=title_str, plot_height=350, plot_width=700, \n",
    "           x_axis_label='Date', y_axis_label='Price ($)', tools=TOOLS)"
   ]
  },
  {
   "cell_type": "code",
   "execution_count": null,
   "metadata": {},
   "outputs": [],
   "source": [
    "from bokeh.models import CustomJS, DateSlider\n",
    "from bokeh.layouts import column\n",
    "\n",
    "tips = [(\"Date\",'@date{%F}')]\n",
    "handle_grabbed = False\n",
    "for key,val in appvars.items():\n",
    "    if key!='symbol':\n",
    "        color = colors_dict[key]\n",
    "        l, tip = make_line(df,p,val,color)\n",
    "        if l is not None:\n",
    "            tips.append(tip)\n",
    "            if not handle_grabbed:\n",
    "                rndr = l\n",
    "                handle_grabbed = True            \n",
    "\n",
    "# tips = [(\"Date\",'@date{%F}'),(\"Open\",'@open'),(\"Close\",'@close'), (\"Adj. Close\", '@{adjusted close}')]\n",
    "hover = HoverTool(tooltips=tips, mode='vline', point_policy='follow_mouse', show_arrow=False, renderers=[rndr], formatters = {'@date':'datetime'})\n",
    "p.add_tools(hover)\n",
    "\n",
    "callback = CustomJS(args=dict(x_range=p.x_range), code=\"\"\"\n",
    "    var right = cb_obj.value\n",
    "    var left = right - 2592000000\n",
    "    x_range.start = left\n",
    "    x_range.end = right\n",
    "\"\"\")\n",
    "slider = DateSlider(start=left, end=right, value=right, step=86400000, title='End Date')\n",
    "# slider.format('datetime')\n",
    "slider.js_on_change('value', callback)\n",
    "\n",
    "p.legend.location = \"bottom_left\"\n",
    "p.legend.click_policy=\"hide\"\n",
    "\n",
    "p.x_range.start = left\n",
    "p.x_range.end = right\n",
    "layout = column(slider, p)\n",
    "show(layout)"
   ]
  },
  {
   "cell_type": "code",
   "execution_count": null,
   "metadata": {},
   "outputs": [],
   "source": [
    "slider.format"
   ]
  },
  {
   "cell_type": "code",
   "execution_count": null,
   "metadata": {},
   "outputs": [],
   "source": [
    "p2 = figure(x_axis_type=\"datetime\", title=title_str, plot_height=350, plot_width=700)\n",
    "l1 = p2.line(df.index, df['close'], line_width=2, line_color=colors_dict['close'], alpha = 0.5)\n",
    "show(p2)"
   ]
  },
  {
   "cell_type": "code",
   "execution_count": null,
   "metadata": {},
   "outputs": [],
   "source": [
    "response['Time Series (Daily)']"
   ]
  },
  {
   "cell_type": "code",
   "execution_count": null,
   "metadata": {},
   "outputs": [],
   "source": [
    "response"
   ]
  },
  {
   "cell_type": "code",
   "execution_count": null,
   "metadata": {},
   "outputs": [],
   "source": []
  }
 ],
 "metadata": {
  "kernelspec": {
   "display_name": "base",
   "language": "python",
   "name": "base"
  },
  "language_info": {
   "codemirror_mode": {
    "name": "ipython",
    "version": 3
   },
   "file_extension": ".py",
   "mimetype": "text/x-python",
   "name": "python",
   "nbconvert_exporter": "python",
   "pygments_lexer": "ipython3",
   "version": "3.8.3"
  }
 },
 "nbformat": 4,
 "nbformat_minor": 4
}
