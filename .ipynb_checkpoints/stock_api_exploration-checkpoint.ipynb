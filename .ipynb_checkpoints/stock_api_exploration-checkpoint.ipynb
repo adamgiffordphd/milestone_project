{
 "cells": [
  {
   "cell_type": "code",
   "execution_count": 1,
   "metadata": {},
   "outputs": [
    {
     "data": {
      "text/html": [
       "\n",
       "    <div class=\"bk-root\">\n",
       "        <a href=\"https://bokeh.org\" target=\"_blank\" class=\"bk-logo bk-logo-small bk-logo-notebook\"></a>\n",
       "        <span id=\"1001\">Loading BokehJS ...</span>\n",
       "    </div>"
      ]
     },
     "metadata": {},
     "output_type": "display_data"
    },
    {
     "data": {
      "application/javascript": [
       "\n",
       "(function(root) {\n",
       "  function now() {\n",
       "    return new Date();\n",
       "  }\n",
       "\n",
       "  var force = true;\n",
       "\n",
       "  if (typeof root._bokeh_onload_callbacks === \"undefined\" || force === true) {\n",
       "    root._bokeh_onload_callbacks = [];\n",
       "    root._bokeh_is_loading = undefined;\n",
       "  }\n",
       "\n",
       "  var JS_MIME_TYPE = 'application/javascript';\n",
       "  var HTML_MIME_TYPE = 'text/html';\n",
       "  var EXEC_MIME_TYPE = 'application/vnd.bokehjs_exec.v0+json';\n",
       "  var CLASS_NAME = 'output_bokeh rendered_html';\n",
       "\n",
       "  /**\n",
       "   * Render data to the DOM node\n",
       "   */\n",
       "  function render(props, node) {\n",
       "    var script = document.createElement(\"script\");\n",
       "    node.appendChild(script);\n",
       "  }\n",
       "\n",
       "  /**\n",
       "   * Handle when an output is cleared or removed\n",
       "   */\n",
       "  function handleClearOutput(event, handle) {\n",
       "    var cell = handle.cell;\n",
       "\n",
       "    var id = cell.output_area._bokeh_element_id;\n",
       "    var server_id = cell.output_area._bokeh_server_id;\n",
       "    // Clean up Bokeh references\n",
       "    if (id != null && id in Bokeh.index) {\n",
       "      Bokeh.index[id].model.document.clear();\n",
       "      delete Bokeh.index[id];\n",
       "    }\n",
       "\n",
       "    if (server_id !== undefined) {\n",
       "      // Clean up Bokeh references\n",
       "      var cmd = \"from bokeh.io.state import curstate; print(curstate().uuid_to_server['\" + server_id + \"'].get_sessions()[0].document.roots[0]._id)\";\n",
       "      cell.notebook.kernel.execute(cmd, {\n",
       "        iopub: {\n",
       "          output: function(msg) {\n",
       "            var id = msg.content.text.trim();\n",
       "            if (id in Bokeh.index) {\n",
       "              Bokeh.index[id].model.document.clear();\n",
       "              delete Bokeh.index[id];\n",
       "            }\n",
       "          }\n",
       "        }\n",
       "      });\n",
       "      // Destroy server and session\n",
       "      var cmd = \"import bokeh.io.notebook as ion; ion.destroy_server('\" + server_id + \"')\";\n",
       "      cell.notebook.kernel.execute(cmd);\n",
       "    }\n",
       "  }\n",
       "\n",
       "  /**\n",
       "   * Handle when a new output is added\n",
       "   */\n",
       "  function handleAddOutput(event, handle) {\n",
       "    var output_area = handle.output_area;\n",
       "    var output = handle.output;\n",
       "\n",
       "    // limit handleAddOutput to display_data with EXEC_MIME_TYPE content only\n",
       "    if ((output.output_type != \"display_data\") || (!output.data.hasOwnProperty(EXEC_MIME_TYPE))) {\n",
       "      return\n",
       "    }\n",
       "\n",
       "    var toinsert = output_area.element.find(\".\" + CLASS_NAME.split(' ')[0]);\n",
       "\n",
       "    if (output.metadata[EXEC_MIME_TYPE][\"id\"] !== undefined) {\n",
       "      toinsert[toinsert.length - 1].firstChild.textContent = output.data[JS_MIME_TYPE];\n",
       "      // store reference to embed id on output_area\n",
       "      output_area._bokeh_element_id = output.metadata[EXEC_MIME_TYPE][\"id\"];\n",
       "    }\n",
       "    if (output.metadata[EXEC_MIME_TYPE][\"server_id\"] !== undefined) {\n",
       "      var bk_div = document.createElement(\"div\");\n",
       "      bk_div.innerHTML = output.data[HTML_MIME_TYPE];\n",
       "      var script_attrs = bk_div.children[0].attributes;\n",
       "      for (var i = 0; i < script_attrs.length; i++) {\n",
       "        toinsert[toinsert.length - 1].firstChild.setAttribute(script_attrs[i].name, script_attrs[i].value);\n",
       "        toinsert[toinsert.length - 1].firstChild.textContent = bk_div.children[0].textContent\n",
       "      }\n",
       "      // store reference to server id on output_area\n",
       "      output_area._bokeh_server_id = output.metadata[EXEC_MIME_TYPE][\"server_id\"];\n",
       "    }\n",
       "  }\n",
       "\n",
       "  function register_renderer(events, OutputArea) {\n",
       "\n",
       "    function append_mime(data, metadata, element) {\n",
       "      // create a DOM node to render to\n",
       "      var toinsert = this.create_output_subarea(\n",
       "        metadata,\n",
       "        CLASS_NAME,\n",
       "        EXEC_MIME_TYPE\n",
       "      );\n",
       "      this.keyboard_manager.register_events(toinsert);\n",
       "      // Render to node\n",
       "      var props = {data: data, metadata: metadata[EXEC_MIME_TYPE]};\n",
       "      render(props, toinsert[toinsert.length - 1]);\n",
       "      element.append(toinsert);\n",
       "      return toinsert\n",
       "    }\n",
       "\n",
       "    /* Handle when an output is cleared or removed */\n",
       "    events.on('clear_output.CodeCell', handleClearOutput);\n",
       "    events.on('delete.Cell', handleClearOutput);\n",
       "\n",
       "    /* Handle when a new output is added */\n",
       "    events.on('output_added.OutputArea', handleAddOutput);\n",
       "\n",
       "    /**\n",
       "     * Register the mime type and append_mime function with output_area\n",
       "     */\n",
       "    OutputArea.prototype.register_mime_type(EXEC_MIME_TYPE, append_mime, {\n",
       "      /* Is output safe? */\n",
       "      safe: true,\n",
       "      /* Index of renderer in `output_area.display_order` */\n",
       "      index: 0\n",
       "    });\n",
       "  }\n",
       "\n",
       "  // register the mime type if in Jupyter Notebook environment and previously unregistered\n",
       "  if (root.Jupyter !== undefined) {\n",
       "    var events = require('base/js/events');\n",
       "    var OutputArea = require('notebook/js/outputarea').OutputArea;\n",
       "\n",
       "    if (OutputArea.prototype.mime_types().indexOf(EXEC_MIME_TYPE) == -1) {\n",
       "      register_renderer(events, OutputArea);\n",
       "    }\n",
       "  }\n",
       "\n",
       "  \n",
       "  if (typeof (root._bokeh_timeout) === \"undefined\" || force === true) {\n",
       "    root._bokeh_timeout = Date.now() + 5000;\n",
       "    root._bokeh_failed_load = false;\n",
       "  }\n",
       "\n",
       "  var NB_LOAD_WARNING = {'data': {'text/html':\n",
       "     \"<div style='background-color: #fdd'>\\n\"+\n",
       "     \"<p>\\n\"+\n",
       "     \"BokehJS does not appear to have successfully loaded. If loading BokehJS from CDN, this \\n\"+\n",
       "     \"may be due to a slow or bad network connection. Possible fixes:\\n\"+\n",
       "     \"</p>\\n\"+\n",
       "     \"<ul>\\n\"+\n",
       "     \"<li>re-rerun `output_notebook()` to attempt to load from CDN again, or</li>\\n\"+\n",
       "     \"<li>use INLINE resources instead, as so:</li>\\n\"+\n",
       "     \"</ul>\\n\"+\n",
       "     \"<code>\\n\"+\n",
       "     \"from bokeh.resources import INLINE\\n\"+\n",
       "     \"output_notebook(resources=INLINE)\\n\"+\n",
       "     \"</code>\\n\"+\n",
       "     \"</div>\"}};\n",
       "\n",
       "  function display_loaded() {\n",
       "    var el = document.getElementById(\"1001\");\n",
       "    if (el != null) {\n",
       "      el.textContent = \"BokehJS is loading...\";\n",
       "    }\n",
       "    if (root.Bokeh !== undefined) {\n",
       "      if (el != null) {\n",
       "        el.textContent = \"BokehJS \" + root.Bokeh.version + \" successfully loaded.\";\n",
       "      }\n",
       "    } else if (Date.now() < root._bokeh_timeout) {\n",
       "      setTimeout(display_loaded, 100)\n",
       "    }\n",
       "  }\n",
       "\n",
       "\n",
       "  function run_callbacks() {\n",
       "    try {\n",
       "      root._bokeh_onload_callbacks.forEach(function(callback) {\n",
       "        if (callback != null)\n",
       "          callback();\n",
       "      });\n",
       "    } finally {\n",
       "      delete root._bokeh_onload_callbacks\n",
       "    }\n",
       "    console.debug(\"Bokeh: all callbacks have finished\");\n",
       "  }\n",
       "\n",
       "  function load_libs(css_urls, js_urls, callback) {\n",
       "    if (css_urls == null) css_urls = [];\n",
       "    if (js_urls == null) js_urls = [];\n",
       "\n",
       "    root._bokeh_onload_callbacks.push(callback);\n",
       "    if (root._bokeh_is_loading > 0) {\n",
       "      console.debug(\"Bokeh: BokehJS is being loaded, scheduling callback at\", now());\n",
       "      return null;\n",
       "    }\n",
       "    if (js_urls == null || js_urls.length === 0) {\n",
       "      run_callbacks();\n",
       "      return null;\n",
       "    }\n",
       "    console.debug(\"Bokeh: BokehJS not loaded, scheduling load and callback at\", now());\n",
       "    root._bokeh_is_loading = css_urls.length + js_urls.length;\n",
       "\n",
       "    function on_load() {\n",
       "      root._bokeh_is_loading--;\n",
       "      if (root._bokeh_is_loading === 0) {\n",
       "        console.debug(\"Bokeh: all BokehJS libraries/stylesheets loaded\");\n",
       "        run_callbacks()\n",
       "      }\n",
       "    }\n",
       "\n",
       "    function on_error() {\n",
       "      console.error(\"failed to load \" + url);\n",
       "    }\n",
       "\n",
       "    for (var i = 0; i < css_urls.length; i++) {\n",
       "      var url = css_urls[i];\n",
       "      const element = document.createElement(\"link\");\n",
       "      element.onload = on_load;\n",
       "      element.onerror = on_error;\n",
       "      element.rel = \"stylesheet\";\n",
       "      element.type = \"text/css\";\n",
       "      element.href = url;\n",
       "      console.debug(\"Bokeh: injecting link tag for BokehJS stylesheet: \", url);\n",
       "      document.body.appendChild(element);\n",
       "    }\n",
       "\n",
       "    const hashes = {\"https://cdn.bokeh.org/bokeh/release/bokeh-2.2.3.min.js\": \"T2yuo9Oe71Cz/I4X9Ac5+gpEa5a8PpJCDlqKYO0CfAuEszu1JrXLl8YugMqYe3sM\", \"https://cdn.bokeh.org/bokeh/release/bokeh-widgets-2.2.3.min.js\": \"98GDGJ0kOMCUMUePhksaQ/GYgB3+NH9h996V88sh3aOiUNX3N+fLXAtry6xctSZ6\", \"https://cdn.bokeh.org/bokeh/release/bokeh-tables-2.2.3.min.js\": \"89bArO+nlbP3sgakeHjCo1JYxYR5wufVgA3IbUvDY+K7w4zyxJqssu7wVnfeKCq8\"};\n",
       "\n",
       "    for (var i = 0; i < js_urls.length; i++) {\n",
       "      var url = js_urls[i];\n",
       "      var element = document.createElement('script');\n",
       "      element.onload = on_load;\n",
       "      element.onerror = on_error;\n",
       "      element.async = false;\n",
       "      element.src = url;\n",
       "      if (url in hashes) {\n",
       "        element.crossOrigin = \"anonymous\";\n",
       "        element.integrity = \"sha384-\" + hashes[url];\n",
       "      }\n",
       "      console.debug(\"Bokeh: injecting script tag for BokehJS library: \", url);\n",
       "      document.head.appendChild(element);\n",
       "    }\n",
       "  };\n",
       "\n",
       "  function inject_raw_css(css) {\n",
       "    const element = document.createElement(\"style\");\n",
       "    element.appendChild(document.createTextNode(css));\n",
       "    document.body.appendChild(element);\n",
       "  }\n",
       "\n",
       "  \n",
       "  var js_urls = [\"https://cdn.bokeh.org/bokeh/release/bokeh-2.2.3.min.js\", \"https://cdn.bokeh.org/bokeh/release/bokeh-widgets-2.2.3.min.js\", \"https://cdn.bokeh.org/bokeh/release/bokeh-tables-2.2.3.min.js\"];\n",
       "  var css_urls = [];\n",
       "  \n",
       "\n",
       "  var inline_js = [\n",
       "    function(Bokeh) {\n",
       "      Bokeh.set_log_level(\"info\");\n",
       "    },\n",
       "    function(Bokeh) {\n",
       "    \n",
       "    \n",
       "    }\n",
       "  ];\n",
       "\n",
       "  function run_inline_js() {\n",
       "    \n",
       "    if (root.Bokeh !== undefined || force === true) {\n",
       "      \n",
       "    for (var i = 0; i < inline_js.length; i++) {\n",
       "      inline_js[i].call(root, root.Bokeh);\n",
       "    }\n",
       "    if (force === true) {\n",
       "        display_loaded();\n",
       "      }} else if (Date.now() < root._bokeh_timeout) {\n",
       "      setTimeout(run_inline_js, 100);\n",
       "    } else if (!root._bokeh_failed_load) {\n",
       "      console.log(\"Bokeh: BokehJS failed to load within specified timeout.\");\n",
       "      root._bokeh_failed_load = true;\n",
       "    } else if (force !== true) {\n",
       "      var cell = $(document.getElementById(\"1001\")).parents('.cell').data().cell;\n",
       "      cell.output_area.append_execute_result(NB_LOAD_WARNING)\n",
       "    }\n",
       "\n",
       "  }\n",
       "\n",
       "  if (root._bokeh_is_loading === 0) {\n",
       "    console.debug(\"Bokeh: BokehJS loaded, going straight to plotting\");\n",
       "    run_inline_js();\n",
       "  } else {\n",
       "    load_libs(css_urls, js_urls, function() {\n",
       "      console.debug(\"Bokeh: BokehJS plotting callback run at\", now());\n",
       "      run_inline_js();\n",
       "    });\n",
       "  }\n",
       "}(window));"
      ],
      "application/vnd.bokehjs_load.v0+json": "\n(function(root) {\n  function now() {\n    return new Date();\n  }\n\n  var force = true;\n\n  if (typeof root._bokeh_onload_callbacks === \"undefined\" || force === true) {\n    root._bokeh_onload_callbacks = [];\n    root._bokeh_is_loading = undefined;\n  }\n\n  \n\n  \n  if (typeof (root._bokeh_timeout) === \"undefined\" || force === true) {\n    root._bokeh_timeout = Date.now() + 5000;\n    root._bokeh_failed_load = false;\n  }\n\n  var NB_LOAD_WARNING = {'data': {'text/html':\n     \"<div style='background-color: #fdd'>\\n\"+\n     \"<p>\\n\"+\n     \"BokehJS does not appear to have successfully loaded. If loading BokehJS from CDN, this \\n\"+\n     \"may be due to a slow or bad network connection. Possible fixes:\\n\"+\n     \"</p>\\n\"+\n     \"<ul>\\n\"+\n     \"<li>re-rerun `output_notebook()` to attempt to load from CDN again, or</li>\\n\"+\n     \"<li>use INLINE resources instead, as so:</li>\\n\"+\n     \"</ul>\\n\"+\n     \"<code>\\n\"+\n     \"from bokeh.resources import INLINE\\n\"+\n     \"output_notebook(resources=INLINE)\\n\"+\n     \"</code>\\n\"+\n     \"</div>\"}};\n\n  function display_loaded() {\n    var el = document.getElementById(\"1001\");\n    if (el != null) {\n      el.textContent = \"BokehJS is loading...\";\n    }\n    if (root.Bokeh !== undefined) {\n      if (el != null) {\n        el.textContent = \"BokehJS \" + root.Bokeh.version + \" successfully loaded.\";\n      }\n    } else if (Date.now() < root._bokeh_timeout) {\n      setTimeout(display_loaded, 100)\n    }\n  }\n\n\n  function run_callbacks() {\n    try {\n      root._bokeh_onload_callbacks.forEach(function(callback) {\n        if (callback != null)\n          callback();\n      });\n    } finally {\n      delete root._bokeh_onload_callbacks\n    }\n    console.debug(\"Bokeh: all callbacks have finished\");\n  }\n\n  function load_libs(css_urls, js_urls, callback) {\n    if (css_urls == null) css_urls = [];\n    if (js_urls == null) js_urls = [];\n\n    root._bokeh_onload_callbacks.push(callback);\n    if (root._bokeh_is_loading > 0) {\n      console.debug(\"Bokeh: BokehJS is being loaded, scheduling callback at\", now());\n      return null;\n    }\n    if (js_urls == null || js_urls.length === 0) {\n      run_callbacks();\n      return null;\n    }\n    console.debug(\"Bokeh: BokehJS not loaded, scheduling load and callback at\", now());\n    root._bokeh_is_loading = css_urls.length + js_urls.length;\n\n    function on_load() {\n      root._bokeh_is_loading--;\n      if (root._bokeh_is_loading === 0) {\n        console.debug(\"Bokeh: all BokehJS libraries/stylesheets loaded\");\n        run_callbacks()\n      }\n    }\n\n    function on_error() {\n      console.error(\"failed to load \" + url);\n    }\n\n    for (var i = 0; i < css_urls.length; i++) {\n      var url = css_urls[i];\n      const element = document.createElement(\"link\");\n      element.onload = on_load;\n      element.onerror = on_error;\n      element.rel = \"stylesheet\";\n      element.type = \"text/css\";\n      element.href = url;\n      console.debug(\"Bokeh: injecting link tag for BokehJS stylesheet: \", url);\n      document.body.appendChild(element);\n    }\n\n    const hashes = {\"https://cdn.bokeh.org/bokeh/release/bokeh-2.2.3.min.js\": \"T2yuo9Oe71Cz/I4X9Ac5+gpEa5a8PpJCDlqKYO0CfAuEszu1JrXLl8YugMqYe3sM\", \"https://cdn.bokeh.org/bokeh/release/bokeh-widgets-2.2.3.min.js\": \"98GDGJ0kOMCUMUePhksaQ/GYgB3+NH9h996V88sh3aOiUNX3N+fLXAtry6xctSZ6\", \"https://cdn.bokeh.org/bokeh/release/bokeh-tables-2.2.3.min.js\": \"89bArO+nlbP3sgakeHjCo1JYxYR5wufVgA3IbUvDY+K7w4zyxJqssu7wVnfeKCq8\"};\n\n    for (var i = 0; i < js_urls.length; i++) {\n      var url = js_urls[i];\n      var element = document.createElement('script');\n      element.onload = on_load;\n      element.onerror = on_error;\n      element.async = false;\n      element.src = url;\n      if (url in hashes) {\n        element.crossOrigin = \"anonymous\";\n        element.integrity = \"sha384-\" + hashes[url];\n      }\n      console.debug(\"Bokeh: injecting script tag for BokehJS library: \", url);\n      document.head.appendChild(element);\n    }\n  };\n\n  function inject_raw_css(css) {\n    const element = document.createElement(\"style\");\n    element.appendChild(document.createTextNode(css));\n    document.body.appendChild(element);\n  }\n\n  \n  var js_urls = [\"https://cdn.bokeh.org/bokeh/release/bokeh-2.2.3.min.js\", \"https://cdn.bokeh.org/bokeh/release/bokeh-widgets-2.2.3.min.js\", \"https://cdn.bokeh.org/bokeh/release/bokeh-tables-2.2.3.min.js\"];\n  var css_urls = [];\n  \n\n  var inline_js = [\n    function(Bokeh) {\n      Bokeh.set_log_level(\"info\");\n    },\n    function(Bokeh) {\n    \n    \n    }\n  ];\n\n  function run_inline_js() {\n    \n    if (root.Bokeh !== undefined || force === true) {\n      \n    for (var i = 0; i < inline_js.length; i++) {\n      inline_js[i].call(root, root.Bokeh);\n    }\n    if (force === true) {\n        display_loaded();\n      }} else if (Date.now() < root._bokeh_timeout) {\n      setTimeout(run_inline_js, 100);\n    } else if (!root._bokeh_failed_load) {\n      console.log(\"Bokeh: BokehJS failed to load within specified timeout.\");\n      root._bokeh_failed_load = true;\n    } else if (force !== true) {\n      var cell = $(document.getElementById(\"1001\")).parents('.cell').data().cell;\n      cell.output_area.append_execute_result(NB_LOAD_WARNING)\n    }\n\n  }\n\n  if (root._bokeh_is_loading === 0) {\n    console.debug(\"Bokeh: BokehJS loaded, going straight to plotting\");\n    run_inline_js();\n  } else {\n    load_libs(css_urls, js_urls, function() {\n      console.debug(\"Bokeh: BokehJS plotting callback run at\", now());\n      run_inline_js();\n    });\n  }\n}(window));"
     },
     "metadata": {},
     "output_type": "display_data"
    }
   ],
   "source": [
    "import pandas as pd\n",
    "import numpy as np\n",
    "from bokeh.io import output_notebook, show\n",
    "from bokeh.plotting import figure\n",
    "import json\n",
    "import requests\n",
    "import pandas as pd\n",
    "from bokeh.models.tools import HoverTool\n",
    "\n",
    "output_notebook()"
   ]
  },
  {
   "cell_type": "code",
   "execution_count": 2,
   "metadata": {},
   "outputs": [],
   "source": [
    "colors_dict = {}\n",
    "colors_dict['open'] = 'firebrick'\n",
    "colors_dict['close'] = 'navy'\n",
    "colors_dict['adj_close'] = 'darkslateblue'"
   ]
  },
  {
   "cell_type": "code",
   "execution_count": 3,
   "metadata": {},
   "outputs": [],
   "source": [
    "def get_key(json_file='alpha_vantage_config.json',json_key='alpha_vantage_info'):\n",
    "    with open(json_file) as f:\n",
    "        data = json.load(f)\n",
    "    \n",
    "    user_values = data[json_key]\n",
    "    return user_values['api_key']"
   ]
  },
  {
   "cell_type": "code",
   "execution_count": 4,
   "metadata": {},
   "outputs": [],
   "source": [
    "json_file = '/Users/adamgifford/Documents/DataScience/DataIncubator/Winter 2021/12_Day_Challenge/alpha_vantage_config.json'\n",
    "api_key = get_key(json_file=json_file)"
   ]
  },
  {
   "cell_type": "code",
   "execution_count": null,
   "metadata": {},
   "outputs": [],
   "source": []
  },
  {
   "cell_type": "code",
   "execution_count": 80,
   "metadata": {},
   "outputs": [],
   "source": [
    "appvars = {}\n",
    "appvars['symbol'] = 'IBM'\n",
    "appvars['open'] = 'Open'\n",
    "appvars['close'] = 'Close'\n",
    "# appvars['adj_close'] = 'Adjusted Close'\n",
    "appvars['adj_close'] = None"
   ]
  },
  {
   "cell_type": "code",
   "execution_count": null,
   "metadata": {},
   "outputs": [],
   "source": []
  },
  {
   "cell_type": "code",
   "execution_count": 6,
   "metadata": {},
   "outputs": [],
   "source": [
    "def get_url(dict_key, dict_val):\n",
    "    base_url = 'https://www.alphavantage.co/query?function=TIME_SERIES_DAILY'\n",
    "    adj_base_url = 'https://www.alphavantage.co/query?function=TIME_SERIES_DAILY_ADJUSTED'\n",
    "\n",
    "    if dict_val is not None:\n",
    "        if 'adj' in dict_key:\n",
    "            return adj_base_url\n",
    "        else:\n",
    "            return base_url"
   ]
  },
  {
   "cell_type": "code",
   "execution_count": 7,
   "metadata": {},
   "outputs": [],
   "source": [
    "def fetch_response(symbol,api_key,url):\n",
    "    url_search = '&symbol={}&apikey={}'.format(symbol, api_key)\n",
    "    url = url + url_search\n",
    "    return requests.get(url).json()"
   ]
  },
  {
   "cell_type": "code",
   "execution_count": 8,
   "metadata": {},
   "outputs": [
    {
     "data": {
      "text/plain": [
       "'https://www.alphavantage.co/query?function=TIME_SERIES_DAILY_ADJUSTED'"
      ]
     },
     "execution_count": 8,
     "metadata": {},
     "output_type": "execute_result"
    }
   ],
   "source": [
    "dict_key = 'adj_close'\n",
    "url = get_url(dict_key,appvars[dict_key])\n",
    "url"
   ]
  },
  {
   "cell_type": "code",
   "execution_count": 9,
   "metadata": {},
   "outputs": [],
   "source": [
    "response = fetch_response('IBM',api_key,url)"
   ]
  },
  {
   "cell_type": "code",
   "execution_count": 10,
   "metadata": {},
   "outputs": [],
   "source": [
    "def make_df(response):\n",
    "    df = pd.DataFrame.from_dict(response['Time Series (Daily)'], orient='index')\n",
    "    df.rename(columns=lambda x: x[3:], inplace=True)\n",
    "    df.index = pd.to_datetime(df.index)\n",
    "    df.sort_index(ascending=False,inplace=True)\n",
    "    df.reset_index(inplace=True)\n",
    "    df.rename(columns={'index': 'date'}, inplace=True)\n",
    "    return df"
   ]
  },
  {
   "cell_type": "code",
   "execution_count": 11,
   "metadata": {},
   "outputs": [],
   "source": [
    "df = make_df(response)"
   ]
  },
  {
   "cell_type": "code",
   "execution_count": null,
   "metadata": {},
   "outputs": [],
   "source": []
  },
  {
   "cell_type": "code",
   "execution_count": 12,
   "metadata": {},
   "outputs": [],
   "source": [
    "def create_title(appvars):\n",
    "    title_str = ''\n",
    "    for key,val in appvars.items():\n",
    "        if key=='symbol':\n",
    "            title_str = title_str + appvars['symbol'] + ' stock: '\n",
    "        else:\n",
    "            if appvars[key] is not None:\n",
    "                title_str = title_str + appvars[key] + ', '\n",
    "\n",
    "    title_str = title_str.split(',')\n",
    "    title_str[-2] = '& ' + title_str[-2].strip()\n",
    "    title_str = ', '.join(title_str)\n",
    "    title_str = title_str[:-3]\n",
    "    return title_str"
   ]
  },
  {
   "cell_type": "code",
   "execution_count": 81,
   "metadata": {},
   "outputs": [
    {
     "data": {
      "text/plain": [
       "'IBM stock: Open, & Close'"
      ]
     },
     "execution_count": 81,
     "metadata": {},
     "output_type": "execute_result"
    }
   ],
   "source": [
    "title_str = create_title(appvars)\n",
    "title_str"
   ]
  },
  {
   "cell_type": "code",
   "execution_count": null,
   "metadata": {},
   "outputs": [],
   "source": [
    "df.head()"
   ]
  },
  {
   "cell_type": "code",
   "execution_count": 16,
   "metadata": {},
   "outputs": [
    {
     "data": {
      "text/plain": [
       "(Timestamp('2020-12-04 00:00:00'), Timestamp('2021-01-03 00:00:00'))"
      ]
     },
     "execution_count": 16,
     "metadata": {},
     "output_type": "execute_result"
    }
   ],
   "source": [
    "from datetime import date, timedelta\n",
    "right = pd.to_datetime(date.today().strftime(\"%Y-%m-%d\"))\n",
    "d = date.today() - timedelta(days=30)\n",
    "left = pd.to_datetime(d.strftime(\"%Y-%m-%d\"))\n",
    "left,right"
   ]
  },
  {
   "cell_type": "code",
   "execution_count": 40,
   "metadata": {},
   "outputs": [
    {
     "data": {
      "text/plain": [
       "2592000000000000"
      ]
     },
     "execution_count": 40,
     "metadata": {},
     "output_type": "execute_result"
    }
   ],
   "source": [
    "dur = right-left\n",
    "int(dur.total_seconds() * 1e9)"
   ]
  },
  {
   "cell_type": "code",
   "execution_count": 31,
   "metadata": {},
   "outputs": [],
   "source": [
    "foo = df['date'].astype(int)"
   ]
  },
  {
   "cell_type": "code",
   "execution_count": 57,
   "metadata": {},
   "outputs": [
    {
     "data": {
      "text/plain": [
       "1609000000000.0"
      ]
     },
     "execution_count": 57,
     "metadata": {},
     "output_type": "execute_result"
    }
   ],
   "source": [
    "1.609e12"
   ]
  },
  {
   "cell_type": "code",
   "execution_count": 44,
   "metadata": {},
   "outputs": [
    {
     "data": {
      "text/plain": [
       "86400000000000"
      ]
     },
     "execution_count": 44,
     "metadata": {},
     "output_type": "execute_result"
    }
   ],
   "source": [
    "24*60*60*1000*1000*1000"
   ]
  },
  {
   "cell_type": "code",
   "execution_count": 94,
   "metadata": {},
   "outputs": [],
   "source": [
    "tips = [(\"Date\",'@date{%F}')]"
   ]
  },
  {
   "cell_type": "code",
   "execution_count": 95,
   "metadata": {},
   "outputs": [
    {
     "data": {
      "text/plain": [
       "[('Date', '@date{%F}'), ('Open', '@open')]"
      ]
     },
     "execution_count": 95,
     "metadata": {},
     "output_type": "execute_result"
    }
   ],
   "source": [
    "tips.append((\"Open\",'@open'))\n",
    "tips"
   ]
  },
  {
   "cell_type": "code",
   "execution_count": 99,
   "metadata": {},
   "outputs": [],
   "source": [
    "def make_line(df,handle,dict_val,color):\n",
    "    if dict_val is not None:\n",
    "        l = handle.line('date', dict_val.lower(), line_width=2, line_color=color, alpha = 0.5, legend_label=dict_val.lower(), source=df)\n",
    "        ytip = (dict_val.title(), '@{' + dict_val.lower() + '}')\n",
    "        return l, ytip\n",
    "    \n",
    "    return None,None"
   ]
  },
  {
   "cell_type": "code",
   "execution_count": 100,
   "metadata": {},
   "outputs": [],
   "source": [
    "TOOLS = 'box_zoom,reset'\n",
    "# create a new plot (with a title) using figure\n",
    "p = figure(x_axis_type=\"datetime\", title=title_str, plot_height=350, plot_width=700, \n",
    "           x_axis_label='Date', y_axis_label='Price ($)', tools=TOOLS)"
   ]
  },
  {
   "cell_type": "code",
   "execution_count": 101,
   "metadata": {},
   "outputs": [
    {
     "data": {
      "text/html": [
       "\n",
       "\n",
       "\n",
       "\n",
       "\n",
       "\n",
       "  <div class=\"bk-root\" id=\"3c624468-9a8d-4a48-905c-8fdf9ef24b81\" data-root-id=\"15652\"></div>\n"
      ]
     },
     "metadata": {},
     "output_type": "display_data"
    },
    {
     "data": {
      "application/javascript": [
       "(function(root) {\n",
       "  function embed_document(root) {\n",
       "    \n",
       "  var docs_json = {\"2ec1ca7e-78ff-47eb-9d25-f03b45e1950b\":{\"roots\":{\"references\":[{\"attributes\":{\"children\":[{\"id\":\"15651\"},{\"id\":\"15566\"}]},\"id\":\"15652\",\"type\":\"Column\"},{\"attributes\":{\"data_source\":{\"id\":\"15619\"},\"glyph\":{\"id\":\"15621\"},\"hover_glyph\":null,\"muted_glyph\":null,\"nonselection_glyph\":{\"id\":\"15622\"},\"selection_glyph\":null,\"view\":{\"id\":\"15624\"}},\"id\":\"15623\",\"type\":\"GlyphRenderer\"},{\"attributes\":{\"end\":1609632000000.0,\"format\":\"%d %b %Y\",\"js_property_callbacks\":{\"change:value\":[{\"id\":\"15650\"}]},\"start\":1607040000000.0,\"step\":86400000,\"title\":\"End Date\",\"value\":1609632000000.0},\"id\":\"15651\",\"type\":\"DateSlider\"},{\"attributes\":{\"bottom_units\":\"screen\",\"fill_alpha\":0.5,\"fill_color\":\"lightgrey\",\"left_units\":\"screen\",\"level\":\"overlay\",\"line_alpha\":1.0,\"line_color\":\"black\",\"line_dash\":[4,4],\"line_width\":2,\"right_units\":\"screen\",\"top_units\":\"screen\"},\"id\":\"15587\",\"type\":\"BoxAnnotation\"},{\"attributes\":{},\"id\":\"15575\",\"type\":\"LinearScale\"},{\"attributes\":{\"end\":1609632000000.0,\"start\":1607040000000.0},\"id\":\"15569\",\"type\":\"DataRange1d\"},{\"attributes\":{\"source\":{\"id\":\"15591\"}},\"id\":\"15596\",\"type\":\"CDSView\"},{\"attributes\":{},\"id\":\"15601\",\"type\":\"BasicTickFormatter\"},{\"attributes\":{\"months\":[0,6]},\"id\":\"15613\",\"type\":\"MonthsTicker\"},{\"attributes\":{\"label\":{\"value\":\"open\"},\"renderers\":[{\"id\":\"15595\"}]},\"id\":\"15618\",\"type\":\"LegendItem\"},{\"attributes\":{\"label\":{\"value\":\"close\"},\"renderers\":[{\"id\":\"15623\"}]},\"id\":\"15647\",\"type\":\"LegendItem\"},{\"attributes\":{},\"id\":\"15614\",\"type\":\"YearsTicker\"},{\"attributes\":{},\"id\":\"15586\",\"type\":\"ResetTool\"},{\"attributes\":{\"months\":[0,1,2,3,4,5,6,7,8,9,10,11]},\"id\":\"15610\",\"type\":\"MonthsTicker\"},{\"attributes\":{\"line_alpha\":0.5,\"line_color\":\"navy\",\"line_width\":2,\"x\":{\"field\":\"date\"},\"y\":{\"field\":\"close\"}},\"id\":\"15621\",\"type\":\"Line\"},{\"attributes\":{\"overlay\":{\"id\":\"15587\"}},\"id\":\"15585\",\"type\":\"BoxZoomTool\"},{\"attributes\":{\"source\":{\"id\":\"15619\"}},\"id\":\"15624\",\"type\":\"CDSView\"},{\"attributes\":{},\"id\":\"15616\",\"type\":\"UnionRenderers\"},{\"attributes\":{},\"id\":\"15645\",\"type\":\"Selection\"},{\"attributes\":{\"line_alpha\":0.1,\"line_color\":\"navy\",\"line_width\":2,\"x\":{\"field\":\"date\"},\"y\":{\"field\":\"close\"}},\"id\":\"15622\",\"type\":\"Line\"},{\"attributes\":{\"axis_label\":\"Price ($)\",\"formatter\":{\"id\":\"15601\"},\"ticker\":{\"id\":\"15582\"}},\"id\":\"15581\",\"type\":\"LinearAxis\"},{\"attributes\":{\"line_alpha\":0.5,\"line_color\":\"firebrick\",\"line_width\":2,\"x\":{\"field\":\"date\"},\"y\":{\"field\":\"open\"}},\"id\":\"15593\",\"type\":\"Line\"},{\"attributes\":{\"line_alpha\":0.1,\"line_color\":\"firebrick\",\"line_width\":2,\"x\":{\"field\":\"date\"},\"y\":{\"field\":\"open\"}},\"id\":\"15594\",\"type\":\"Line\"},{\"attributes\":{},\"id\":\"15646\",\"type\":\"UnionRenderers\"},{\"attributes\":{\"num_minor_ticks\":5,\"tickers\":[{\"id\":\"15603\"},{\"id\":\"15604\"},{\"id\":\"15605\"},{\"id\":\"15606\"},{\"id\":\"15607\"},{\"id\":\"15608\"},{\"id\":\"15609\"},{\"id\":\"15610\"},{\"id\":\"15611\"},{\"id\":\"15612\"},{\"id\":\"15613\"},{\"id\":\"15614\"}]},\"id\":\"15578\",\"type\":\"DatetimeTicker\"},{\"attributes\":{\"base\":24,\"mantissas\":[1,2,4,6,8,12],\"max_interval\":43200000.0,\"min_interval\":3600000.0,\"num_minor_ticks\":0},\"id\":\"15605\",\"type\":\"AdaptiveTicker\"},{\"attributes\":{\"axis\":{\"id\":\"15577\"},\"ticker\":null},\"id\":\"15580\",\"type\":\"Grid\"},{\"attributes\":{},\"id\":\"15571\",\"type\":\"DataRange1d\"},{\"attributes\":{\"days\":[1,15]},\"id\":\"15609\",\"type\":\"DaysTicker\"},{\"attributes\":{\"axis_label\":\"Date\",\"formatter\":{\"id\":\"15599\"},\"ticker\":{\"id\":\"15578\"}},\"id\":\"15577\",\"type\":\"DatetimeAxis\"},{\"attributes\":{\"args\":{\"x_range\":{\"id\":\"15569\"}},\"code\":\"\\n    var right = cb_obj.value\\n    var left = right - 2592000000\\n    x_range.start = left\\n    x_range.end = right\\n\"},\"id\":\"15650\",\"type\":\"CustomJS\"},{\"attributes\":{\"days\":[1,4,7,10,13,16,19,22,25,28]},\"id\":\"15607\",\"type\":\"DaysTicker\"},{\"attributes\":{\"base\":60,\"mantissas\":[1,2,5,10,15,20,30],\"max_interval\":1800000.0,\"min_interval\":1000.0,\"num_minor_ticks\":0},\"id\":\"15604\",\"type\":\"AdaptiveTicker\"},{\"attributes\":{},\"id\":\"15599\",\"type\":\"DatetimeTickFormatter\"},{\"attributes\":{},\"id\":\"15615\",\"type\":\"Selection\"},{\"attributes\":{},\"id\":\"15573\",\"type\":\"LinearScale\"},{\"attributes\":{},\"id\":\"15582\",\"type\":\"BasicTicker\"},{\"attributes\":{\"data\":{\"adjusted close\":[\"125.88\",\"124.34\",\"123.8\",\"124.82\",\"124.69\",\"123.9\",\"123.61\",\"123.39\",\"125.85\",\"125.55\",\"125.55\",\"125.93\",\"123.53\",\"124.27\",\"124.96\",\"126.79\",\"125.71\",\"124.7\",\"127.2\",\"123.61\",\"124.62\",\"123.16\",\"123.52\",\"124.35\",\"124.2\",\"124.42\",\"120.09\",\"116.94\",\"117.18\",\"116.77\",\"117.7\",\"118.36\",\"116.85\",\"114.5\",\"117.2\",\"117.91\",\"115.53\",\"112.453407306\",\"113.17325111\",\"110.343180266\",\"112.571737794\",\"111.339128542\",\"110.10651929\",\"107.394778935\",\"105.166221407\",\"109.021823148\",\"110.658728235\",\"114.386138614\",\"114.149477637\",\"113.459216456\",\"115.737078354\",\"123.773690679\",\"124.177986514\",\"123.152455616\",\"124.187847388\",\"123.359533971\",\"125.440178389\",\"126.012109082\",\"129.660632468\",\"122.343863947\",\"120.273080403\",\"120.312523899\",\"118.89255804\",\"119.405323489\",\"119.977254182\",\"119.257410379\",\"120.036419426\",\"117.295096449\",\"116.447061284\",\"117.176765961\",\"118.833392796\",\"118.577010072\",\"121.05208945\",\"123.182038238\",\"122.491777057\",\"120.736541482\",\"120.391410891\",\"119.770175828\",\"118.882697166\",\"120.559045749\",\"119.523653977\",\"120.598489245\",\"122.718577159\",\"126.396683168\",\"121.683185388\",\"121.594437521\",\"123.329951349\",\"122.91579464\",\"122.442472687\",\"122.905933766\",\"123.931464664\",\"121.446524411\",\"121.436663537\",\"122.117063844\",\"123.182038238\",\"122.708716285\",\"123.527168829\",\"123.290507853\",\"124.937273814\",\"124.986578184\"],\"close\":[\"125.88\",\"124.34\",\"123.8\",\"124.82\",\"124.69\",\"123.9\",\"123.61\",\"123.39\",\"125.85\",\"125.55\",\"125.55\",\"125.93\",\"123.53\",\"124.27\",\"124.96\",\"126.79\",\"125.71\",\"124.7\",\"127.2\",\"123.61\",\"124.62\",\"123.16\",\"123.52\",\"124.35\",\"124.2\",\"124.42\",\"120.09\",\"116.94\",\"117.18\",\"116.77\",\"117.7\",\"118.36\",\"116.85\",\"114.5\",\"117.2\",\"117.91\",\"115.53\",\"114.04\",\"114.77\",\"111.9\",\"114.16\",\"112.91\",\"111.66\",\"108.91\",\"106.65\",\"110.56\",\"112.22\",\"116.0\",\"115.76\",\"115.06\",\"117.37\",\"125.52\",\"125.93\",\"124.89\",\"125.94\",\"125.1\",\"127.21\",\"127.79\",\"131.49\",\"124.07\",\"121.97\",\"122.01\",\"120.57\",\"121.09\",\"121.67\",\"120.94\",\"121.73\",\"118.95\",\"118.09\",\"118.83\",\"120.51\",\"120.25\",\"122.76\",\"124.92\",\"124.22\",\"122.44\",\"122.09\",\"121.46\",\"120.56\",\"122.26\",\"121.21\",\"122.3\",\"124.45\",\"128.18\",\"123.4\",\"123.31\",\"125.07\",\"124.65\",\"124.17\",\"124.64\",\"125.68\",\"123.16\",\"123.15\",\"123.84\",\"124.92\",\"124.44\",\"125.27\",\"125.03\",\"126.7\",\"126.75\"],\"date\":{\"__ndarray__\":\"AABAgWFrd0IAAIAbD2t3QgAAwLW8andCAAAAUGpqd0IAAAC5IGl3QgAAQFPOaHdCAACA7Xtod0IAAMCHKWh3QgAAgFYyZ3dCAADA8N9md0IAAACLjWZ3QgAAQCU7ZndCAACAv+hld0IAAECO8WR3QgAAgCifZHdCAADAwkxkd0IAAABd+mN3QgAAQPenY3dCAAAAxrBid0IAAEBgXmJ3QgAAgPoLYndCAADAlLlhd0IAAAAvZ2F3QgAAwP1vYHdCAABAMstfd0IAAIDMeF93QgAAwGYmX3dCAACANS9ed0IAAMDP3F13QgAAAGqKXXdCAABABDhdd0IAAICe5Vx3QgAAQG3uW3dCAACAB5xbd0IAAMChSVt3QgAAADz3WndCAABA1qRad0IAAAClrVl3QgAAQD9bWXdCAACA2QhZd0IAAMBztlh3QgAAAA5kWHdCAADA3GxXd0IAAAB3Gld3QgAAQBHIVndCAACAq3VWd0IAAMBFI1Z3QgAAgBQsVXdCAADArtlUd0IAAABJh1R3QgAAQOM0VHdCAACAfeJTd0IAAEBM61J3QgAAgOaYUndCAADAgEZSd0IAAAAb9FF3QgAAQLWhUXdCAAAAhKpQd0IAAEAeWFB3QgAAgLgFUHdCAADAUrNPd0IAAADtYE93QgAAwLtpTndCAAAAVhdOd0IAAEDwxE13QgAAgIpyTXdCAADAJCBNd0IAAIDzKEx3QgAAwI3WS3dCAAAAKIRLd0IAAEDCMUt3QgAAgFzfSndCAABAK+hJd0IAAIDFlUl3QgAAwF9DSXdCAAAA+vBId0IAAECUnkh3QgAAAGOnR3dCAABA/VRHd0IAAICXAkd3QgAAwDGwRndCAADAmmZFd0IAAAA1FEV3QgAAQM/BRHdCAACAaW9Ed0IAAMADHUR3QgAAgNIlQ3dCAADAbNNCd0IAAAAHgUJ3QgAAQKEuQndCAACAO9xBd0IAAEAK5UB3QgAAgKSSQHdCAADAPkBAd0IAAADZ7T93QgAAQHObP3dCAAAAQqQ+d0IAAEDcUT53QgAAgHb/PXdCAADAEK09d0I=\",\"dtype\":\"float64\",\"order\":\"little\",\"shape\":[100]},\"dividend amount\":[\"0.0000\",\"0.0000\",\"0.0000\",\"0.0000\",\"0.0000\",\"0.0000\",\"0.0000\",\"0.0000\",\"0.0000\",\"0.0000\",\"0.0000\",\"0.0000\",\"0.0000\",\"0.0000\",\"0.0000\",\"0.0000\",\"0.0000\",\"0.0000\",\"0.0000\",\"0.0000\",\"0.0000\",\"0.0000\",\"0.0000\",\"0.0000\",\"0.0000\",\"0.0000\",\"0.0000\",\"0.0000\",\"0.0000\",\"0.0000\",\"0.0000\",\"0.0000\",\"0.0000\",\"0.0000\",\"0.0000\",\"0.0000\",\"1.6300\",\"0.0000\",\"0.0000\",\"0.0000\",\"0.0000\",\"0.0000\",\"0.0000\",\"0.0000\",\"0.0000\",\"0.0000\",\"0.0000\",\"0.0000\",\"0.0000\",\"0.0000\",\"0.0000\",\"0.0000\",\"0.0000\",\"0.0000\",\"0.0000\",\"0.0000\",\"0.0000\",\"0.0000\",\"0.0000\",\"0.0000\",\"0.0000\",\"0.0000\",\"0.0000\",\"0.0000\",\"0.0000\",\"0.0000\",\"0.0000\",\"0.0000\",\"0.0000\",\"0.0000\",\"0.0000\",\"0.0000\",\"0.0000\",\"0.0000\",\"0.0000\",\"0.0000\",\"0.0000\",\"0.0000\",\"0.0000\",\"0.0000\",\"0.0000\",\"0.0000\",\"0.0000\",\"0.0000\",\"0.0000\",\"0.0000\",\"0.0000\",\"0.0000\",\"0.0000\",\"0.0000\",\"0.0000\",\"0.0000\",\"0.0000\",\"0.0000\",\"0.0000\",\"0.0000\",\"0.0000\",\"0.0000\",\"0.0000\",\"0.0000\"],\"high\":[\"126.03\",\"124.85\",\"125.48\",\"126.6\",\"125.1\",\"125.21\",\"124.22\",\"124.18\",\"126.4\",\"126.09\",\"126.5728\",\"125.93\",\"126.2435\",\"125.51\",\"126.93\",\"127.69\",\"126.33\",\"126.97\",\"127.38\",\"124.86\",\"124.64\",\"125.83\",\"125.0\",\"125.313\",\"124.33\",\"124.73\",\"120.515\",\"118.04\",\"117.45\",\"118.88\",\"118.54\",\"118.55\",\"117.37\",\"116.37\",\"118.35\",\"118.17\",\"119.74\",\"115.1\",\"115.29\",\"113.91\",\"115.65\",\"113.8265\",\"111.8\",\"109.64\",\"109.73\",\"112.22\",\"114.9\",\"116.62\",\"116.06\",\"117.6899\",\"120.15\",\"127.35\",\"126.43\",\"125.215\",\"126.94\",\"127.15\",\"128.25\",\"132.0\",\"135.5\",\"124.39\",\"124.83\",\"122.75\",\"121.75\",\"123.3\",\"122.91\",\"122.1858\",\"122.33\",\"119.41\",\"119.515\",\"121.59\",\"121.45\",\"120.7\",\"124.92\",\"125.55\",\"125.82\",\"123.4\",\"123.38\",\"122.7\",\"123.5764\",\"123.7\",\"122.87\",\"125.35\",\"129.95\",\"128.7\",\"123.95\",\"125.25\",\"125.3\",\"125.1\",\"125.12\",\"126.82\",\"126.06\",\"123.4842\",\"124.04\",\"125.5\",\"125.5\",\"125.59\",\"125.56\",\"126.39\",\"127.79\",\"130.47\"],\"index\":[0,1,2,3,4,5,6,7,8,9,10,11,12,13,14,15,16,17,18,19,20,21,22,23,24,25,26,27,28,29,30,31,32,33,34,35,36,37,38,39,40,41,42,43,44,45,46,47,48,49,50,51,52,53,54,55,56,57,58,59,60,61,62,63,64,65,66,67,68,69,70,71,72,73,74,75,76,77,78,79,80,81,82,83,84,85,86,87,88,89,90,91,92,93,94,95,96,97,98,99],\"low\":[\"123.99\",\"123.63\",\"123.24\",\"124.46\",\"124.21\",\"123.74\",\"122.41\",\"121.72\",\"124.97\",\"124.91\",\"125.286\",\"123.44\",\"123.47\",\"123.61\",\"124.94\",\"125.7\",\"124.64\",\"124.57\",\"123.64\",\"123.29\",\"122.41\",\"123.08\",\"123.09\",\"123.91\",\"122.11\",\"120.805\",\"117.27\",\"116.69\",\"115.89\",\"116.75\",\"117.07\",\"117.12\",\"115.01\",\"113.48\",\"116.22\",\"116.25\",\"115.27\",\"113.39\",\"113.01\",\"111.16\",\"113.63\",\"112.25\",\"107.75\",\"106.55\",\"105.92\",\"110.03\",\"111.84\",\"115.53\",\"112.98\",\"114.79\",\"116.84\",\"125.08\",\"124.655\",\"123.85\",\"125.13\",\"124.46\",\"126.44\",\"127.6\",\"129.77\",\"122.32\",\"121.59\",\"121.05\",\"118.82\",\"120.355\",\"120.8\",\"120.21\",\"120.41\",\"116.94\",\"116.48\",\"118.43\",\"119.53\",\"118.58\",\"122.65\",\"121.97\",\"122.71\",\"122.24\",\"121.76\",\"120.73\",\"120.24\",\"121.29\",\"120.71\",\"121.24\",\"123.65\",\"123.575\",\"122.15\",\"123.03\",\"124.2187\",\"123.98\",\"123.95\",\"124.49\",\"123.36\",\"122.31\",\"122.81\",\"123.5\",\"124.24\",\"124.41\",\"123.91\",\"124.77\",\"125.876\",\"126.61\"],\"open\":[\"124.22\",\"123.8\",\"125.35\",\"125.1\",\"125.0\",\"123.88\",\"123.31\",\"123.97\",\"125.59\",\"126.08\",\"125.93\",\"124.39\",\"125.32\",\"124.08\",\"126.35\",\"125.8\",\"125.32\",\"126.49\",\"123.97\",\"124.16\",\"122.85\",\"123.9\",\"124.1\",\"124.2\",\"122.93\",\"120.86\",\"117.43\",\"117.6\",\"116.54\",\"117.72\",\"117.6\",\"118.3\",\"115.19\",\"115.63\",\"118.12\",\"116.69\",\"117.88\",\"115.08\",\"113.3\",\"112.33\",\"114.0\",\"112.65\",\"107.9\",\"107.25\",\"108.66\",\"112.15\",\"114.45\",\"116.5\",\"115.0\",\"116.66\",\"119.8\",\"126.8\",\"125.17\",\"124.08\",\"125.13\",\"126.57\",\"128.07\",\"132.0\",\"130.86\",\"122.67\",\"122.58\",\"121.84\",\"119.04\",\"122.36\",\"121.38\",\"121.41\",\"120.57\",\"117.6\",\"118.1\",\"120.8\",\"120.33\",\"120.48\",\"124.26\",\"122.62\",\"122.71\",\"122.82\",\"122.36\",\"121.39\",\"122.53\",\"122.13\",\"122.16\",\"124.35\",\"128.19\",\"123.72\",\"122.85\",\"125.25\",\"124.96\",\"124.6\",\"124.95\",\"126.0\",\"123.79\",\"123.01\",\"123.2\",\"124.83\",\"125.0\",\"125.25\",\"124.2\",\"125.96\",\"127.61\",\"128.76\"],\"split coefficient\":[\"1.0\",\"1.0\",\"1.0\",\"1.0\",\"1.0\",\"1.0\",\"1.0\",\"1.0\",\"1.0\",\"1.0\",\"1.0\",\"1.0\",\"1.0\",\"1.0\",\"1.0\",\"1.0\",\"1.0\",\"1.0\",\"1.0\",\"1.0\",\"1.0\",\"1.0\",\"1.0\",\"1.0\",\"1.0\",\"1.0\",\"1.0\",\"1.0\",\"1.0\",\"1.0\",\"1.0\",\"1.0\",\"1.0\",\"1.0\",\"1.0\",\"1.0\",\"1.0\",\"1.0\",\"1.0\",\"1.0\",\"1.0\",\"1.0\",\"1.0\",\"1.0\",\"1.0\",\"1.0\",\"1.0\",\"1.0\",\"1.0\",\"1.0\",\"1.0\",\"1.0\",\"1.0\",\"1.0\",\"1.0\",\"1.0\",\"1.0\",\"1.0\",\"1.0\",\"1.0\",\"1.0\",\"1.0\",\"1.0\",\"1.0\",\"1.0\",\"1.0\",\"1.0\",\"1.0\",\"1.0\",\"1.0\",\"1.0\",\"1.0\",\"1.0\",\"1.0\",\"1.0\",\"1.0\",\"1.0\",\"1.0\",\"1.0\",\"1.0\",\"1.0\",\"1.0\",\"1.0\",\"1.0\",\"1.0\",\"1.0\",\"1.0\",\"1.0\",\"1.0\",\"1.0\",\"1.0\",\"1.0\",\"1.0\",\"1.0\",\"1.0\",\"1.0\",\"1.0\",\"1.0\",\"1.0\",\"1.0\"],\"volume\":[\"3574696\",\"3380494\",\"3487007\",\"3583222\",\"1761122\",\"2693889\",\"4337757\",\"6115671\",\"7552845\",\"3787962\",\"4530096\",\"4359601\",\"5050023\",\"4481416\",\"4803172\",\"6513517\",\"5395024\",\"8318500\",\"5522760\",\"4548161\",\"3690737\",\"5099334\",\"5987991\",\"2091186\",\"4135894\",\"7535949\",\"5655119\",\"5024593\",\"3439648\",\"4606828\",\"4134455\",\"5293385\",\"4683512\",\"6500799\",\"4289601\",\"5622756\",\"8992152\",\"5249171\",\"4902206\",\"5800071\",\"4204287\",\"5311497\",\"7923882\",\"6760241\",\"9427321\",\"5936106\",\"7203366\",\"3893362\",\"7858158\",\"9755308\",\"21501073\",\"7478735\",\"4714320\",\"3389301\",\"3730139\",\"5406088\",\"4635115\",\"8353704\",\"25288926\",\"2815663\",\"3872265\",\"3050949\",\"2925228\",\"3211661\",\"3261235\",\"2130564\",\"3509576\",\"2953686\",\"3546160\",\"3939398\",\"2957809\",\"5311441\",\"5391570\",\"3171262\",\"3789458\",\"2915221\",\"3641887\",\"3548091\",\"3978805\",\"3770678\",\"5210292\",\"6018238\",\"5716750\",\"6592430\",\"3155623\",\"4827879\",\"3099940\",\"3422654\",\"3388687\",\"2977697\",\"4070816\",\"3385051\",\"2561164\",\"3743949\",\"2882355\",\"3336459\",\"2963753\",\"3171258\",\"3530177\",\"5001176\"]},\"selected\":{\"id\":\"15645\"},\"selection_policy\":{\"id\":\"15646\"}},\"id\":\"15619\",\"type\":\"ColumnDataSource\"},{\"attributes\":{\"days\":[1,2,3,4,5,6,7,8,9,10,11,12,13,14,15,16,17,18,19,20,21,22,23,24,25,26,27,28,29,30,31]},\"id\":\"15606\",\"type\":\"DaysTicker\"},{\"attributes\":{\"data\":{\"adjusted close\":[\"125.88\",\"124.34\",\"123.8\",\"124.82\",\"124.69\",\"123.9\",\"123.61\",\"123.39\",\"125.85\",\"125.55\",\"125.55\",\"125.93\",\"123.53\",\"124.27\",\"124.96\",\"126.79\",\"125.71\",\"124.7\",\"127.2\",\"123.61\",\"124.62\",\"123.16\",\"123.52\",\"124.35\",\"124.2\",\"124.42\",\"120.09\",\"116.94\",\"117.18\",\"116.77\",\"117.7\",\"118.36\",\"116.85\",\"114.5\",\"117.2\",\"117.91\",\"115.53\",\"112.453407306\",\"113.17325111\",\"110.343180266\",\"112.571737794\",\"111.339128542\",\"110.10651929\",\"107.394778935\",\"105.166221407\",\"109.021823148\",\"110.658728235\",\"114.386138614\",\"114.149477637\",\"113.459216456\",\"115.737078354\",\"123.773690679\",\"124.177986514\",\"123.152455616\",\"124.187847388\",\"123.359533971\",\"125.440178389\",\"126.012109082\",\"129.660632468\",\"122.343863947\",\"120.273080403\",\"120.312523899\",\"118.89255804\",\"119.405323489\",\"119.977254182\",\"119.257410379\",\"120.036419426\",\"117.295096449\",\"116.447061284\",\"117.176765961\",\"118.833392796\",\"118.577010072\",\"121.05208945\",\"123.182038238\",\"122.491777057\",\"120.736541482\",\"120.391410891\",\"119.770175828\",\"118.882697166\",\"120.559045749\",\"119.523653977\",\"120.598489245\",\"122.718577159\",\"126.396683168\",\"121.683185388\",\"121.594437521\",\"123.329951349\",\"122.91579464\",\"122.442472687\",\"122.905933766\",\"123.931464664\",\"121.446524411\",\"121.436663537\",\"122.117063844\",\"123.182038238\",\"122.708716285\",\"123.527168829\",\"123.290507853\",\"124.937273814\",\"124.986578184\"],\"close\":[\"125.88\",\"124.34\",\"123.8\",\"124.82\",\"124.69\",\"123.9\",\"123.61\",\"123.39\",\"125.85\",\"125.55\",\"125.55\",\"125.93\",\"123.53\",\"124.27\",\"124.96\",\"126.79\",\"125.71\",\"124.7\",\"127.2\",\"123.61\",\"124.62\",\"123.16\",\"123.52\",\"124.35\",\"124.2\",\"124.42\",\"120.09\",\"116.94\",\"117.18\",\"116.77\",\"117.7\",\"118.36\",\"116.85\",\"114.5\",\"117.2\",\"117.91\",\"115.53\",\"114.04\",\"114.77\",\"111.9\",\"114.16\",\"112.91\",\"111.66\",\"108.91\",\"106.65\",\"110.56\",\"112.22\",\"116.0\",\"115.76\",\"115.06\",\"117.37\",\"125.52\",\"125.93\",\"124.89\",\"125.94\",\"125.1\",\"127.21\",\"127.79\",\"131.49\",\"124.07\",\"121.97\",\"122.01\",\"120.57\",\"121.09\",\"121.67\",\"120.94\",\"121.73\",\"118.95\",\"118.09\",\"118.83\",\"120.51\",\"120.25\",\"122.76\",\"124.92\",\"124.22\",\"122.44\",\"122.09\",\"121.46\",\"120.56\",\"122.26\",\"121.21\",\"122.3\",\"124.45\",\"128.18\",\"123.4\",\"123.31\",\"125.07\",\"124.65\",\"124.17\",\"124.64\",\"125.68\",\"123.16\",\"123.15\",\"123.84\",\"124.92\",\"124.44\",\"125.27\",\"125.03\",\"126.7\",\"126.75\"],\"date\":{\"__ndarray__\":\"AABAgWFrd0IAAIAbD2t3QgAAwLW8andCAAAAUGpqd0IAAAC5IGl3QgAAQFPOaHdCAACA7Xtod0IAAMCHKWh3QgAAgFYyZ3dCAADA8N9md0IAAACLjWZ3QgAAQCU7ZndCAACAv+hld0IAAECO8WR3QgAAgCifZHdCAADAwkxkd0IAAABd+mN3QgAAQPenY3dCAAAAxrBid0IAAEBgXmJ3QgAAgPoLYndCAADAlLlhd0IAAAAvZ2F3QgAAwP1vYHdCAABAMstfd0IAAIDMeF93QgAAwGYmX3dCAACANS9ed0IAAMDP3F13QgAAAGqKXXdCAABABDhdd0IAAICe5Vx3QgAAQG3uW3dCAACAB5xbd0IAAMChSVt3QgAAADz3WndCAABA1qRad0IAAAClrVl3QgAAQD9bWXdCAACA2QhZd0IAAMBztlh3QgAAAA5kWHdCAADA3GxXd0IAAAB3Gld3QgAAQBHIVndCAACAq3VWd0IAAMBFI1Z3QgAAgBQsVXdCAADArtlUd0IAAABJh1R3QgAAQOM0VHdCAACAfeJTd0IAAEBM61J3QgAAgOaYUndCAADAgEZSd0IAAAAb9FF3QgAAQLWhUXdCAAAAhKpQd0IAAEAeWFB3QgAAgLgFUHdCAADAUrNPd0IAAADtYE93QgAAwLtpTndCAAAAVhdOd0IAAEDwxE13QgAAgIpyTXdCAADAJCBNd0IAAIDzKEx3QgAAwI3WS3dCAAAAKIRLd0IAAEDCMUt3QgAAgFzfSndCAABAK+hJd0IAAIDFlUl3QgAAwF9DSXdCAAAA+vBId0IAAECUnkh3QgAAAGOnR3dCAABA/VRHd0IAAICXAkd3QgAAwDGwRndCAADAmmZFd0IAAAA1FEV3QgAAQM/BRHdCAACAaW9Ed0IAAMADHUR3QgAAgNIlQ3dCAADAbNNCd0IAAAAHgUJ3QgAAQKEuQndCAACAO9xBd0IAAEAK5UB3QgAAgKSSQHdCAADAPkBAd0IAAADZ7T93QgAAQHObP3dCAAAAQqQ+d0IAAEDcUT53QgAAgHb/PXdCAADAEK09d0I=\",\"dtype\":\"float64\",\"order\":\"little\",\"shape\":[100]},\"dividend amount\":[\"0.0000\",\"0.0000\",\"0.0000\",\"0.0000\",\"0.0000\",\"0.0000\",\"0.0000\",\"0.0000\",\"0.0000\",\"0.0000\",\"0.0000\",\"0.0000\",\"0.0000\",\"0.0000\",\"0.0000\",\"0.0000\",\"0.0000\",\"0.0000\",\"0.0000\",\"0.0000\",\"0.0000\",\"0.0000\",\"0.0000\",\"0.0000\",\"0.0000\",\"0.0000\",\"0.0000\",\"0.0000\",\"0.0000\",\"0.0000\",\"0.0000\",\"0.0000\",\"0.0000\",\"0.0000\",\"0.0000\",\"0.0000\",\"1.6300\",\"0.0000\",\"0.0000\",\"0.0000\",\"0.0000\",\"0.0000\",\"0.0000\",\"0.0000\",\"0.0000\",\"0.0000\",\"0.0000\",\"0.0000\",\"0.0000\",\"0.0000\",\"0.0000\",\"0.0000\",\"0.0000\",\"0.0000\",\"0.0000\",\"0.0000\",\"0.0000\",\"0.0000\",\"0.0000\",\"0.0000\",\"0.0000\",\"0.0000\",\"0.0000\",\"0.0000\",\"0.0000\",\"0.0000\",\"0.0000\",\"0.0000\",\"0.0000\",\"0.0000\",\"0.0000\",\"0.0000\",\"0.0000\",\"0.0000\",\"0.0000\",\"0.0000\",\"0.0000\",\"0.0000\",\"0.0000\",\"0.0000\",\"0.0000\",\"0.0000\",\"0.0000\",\"0.0000\",\"0.0000\",\"0.0000\",\"0.0000\",\"0.0000\",\"0.0000\",\"0.0000\",\"0.0000\",\"0.0000\",\"0.0000\",\"0.0000\",\"0.0000\",\"0.0000\",\"0.0000\",\"0.0000\",\"0.0000\",\"0.0000\"],\"high\":[\"126.03\",\"124.85\",\"125.48\",\"126.6\",\"125.1\",\"125.21\",\"124.22\",\"124.18\",\"126.4\",\"126.09\",\"126.5728\",\"125.93\",\"126.2435\",\"125.51\",\"126.93\",\"127.69\",\"126.33\",\"126.97\",\"127.38\",\"124.86\",\"124.64\",\"125.83\",\"125.0\",\"125.313\",\"124.33\",\"124.73\",\"120.515\",\"118.04\",\"117.45\",\"118.88\",\"118.54\",\"118.55\",\"117.37\",\"116.37\",\"118.35\",\"118.17\",\"119.74\",\"115.1\",\"115.29\",\"113.91\",\"115.65\",\"113.8265\",\"111.8\",\"109.64\",\"109.73\",\"112.22\",\"114.9\",\"116.62\",\"116.06\",\"117.6899\",\"120.15\",\"127.35\",\"126.43\",\"125.215\",\"126.94\",\"127.15\",\"128.25\",\"132.0\",\"135.5\",\"124.39\",\"124.83\",\"122.75\",\"121.75\",\"123.3\",\"122.91\",\"122.1858\",\"122.33\",\"119.41\",\"119.515\",\"121.59\",\"121.45\",\"120.7\",\"124.92\",\"125.55\",\"125.82\",\"123.4\",\"123.38\",\"122.7\",\"123.5764\",\"123.7\",\"122.87\",\"125.35\",\"129.95\",\"128.7\",\"123.95\",\"125.25\",\"125.3\",\"125.1\",\"125.12\",\"126.82\",\"126.06\",\"123.4842\",\"124.04\",\"125.5\",\"125.5\",\"125.59\",\"125.56\",\"126.39\",\"127.79\",\"130.47\"],\"index\":[0,1,2,3,4,5,6,7,8,9,10,11,12,13,14,15,16,17,18,19,20,21,22,23,24,25,26,27,28,29,30,31,32,33,34,35,36,37,38,39,40,41,42,43,44,45,46,47,48,49,50,51,52,53,54,55,56,57,58,59,60,61,62,63,64,65,66,67,68,69,70,71,72,73,74,75,76,77,78,79,80,81,82,83,84,85,86,87,88,89,90,91,92,93,94,95,96,97,98,99],\"low\":[\"123.99\",\"123.63\",\"123.24\",\"124.46\",\"124.21\",\"123.74\",\"122.41\",\"121.72\",\"124.97\",\"124.91\",\"125.286\",\"123.44\",\"123.47\",\"123.61\",\"124.94\",\"125.7\",\"124.64\",\"124.57\",\"123.64\",\"123.29\",\"122.41\",\"123.08\",\"123.09\",\"123.91\",\"122.11\",\"120.805\",\"117.27\",\"116.69\",\"115.89\",\"116.75\",\"117.07\",\"117.12\",\"115.01\",\"113.48\",\"116.22\",\"116.25\",\"115.27\",\"113.39\",\"113.01\",\"111.16\",\"113.63\",\"112.25\",\"107.75\",\"106.55\",\"105.92\",\"110.03\",\"111.84\",\"115.53\",\"112.98\",\"114.79\",\"116.84\",\"125.08\",\"124.655\",\"123.85\",\"125.13\",\"124.46\",\"126.44\",\"127.6\",\"129.77\",\"122.32\",\"121.59\",\"121.05\",\"118.82\",\"120.355\",\"120.8\",\"120.21\",\"120.41\",\"116.94\",\"116.48\",\"118.43\",\"119.53\",\"118.58\",\"122.65\",\"121.97\",\"122.71\",\"122.24\",\"121.76\",\"120.73\",\"120.24\",\"121.29\",\"120.71\",\"121.24\",\"123.65\",\"123.575\",\"122.15\",\"123.03\",\"124.2187\",\"123.98\",\"123.95\",\"124.49\",\"123.36\",\"122.31\",\"122.81\",\"123.5\",\"124.24\",\"124.41\",\"123.91\",\"124.77\",\"125.876\",\"126.61\"],\"open\":[\"124.22\",\"123.8\",\"125.35\",\"125.1\",\"125.0\",\"123.88\",\"123.31\",\"123.97\",\"125.59\",\"126.08\",\"125.93\",\"124.39\",\"125.32\",\"124.08\",\"126.35\",\"125.8\",\"125.32\",\"126.49\",\"123.97\",\"124.16\",\"122.85\",\"123.9\",\"124.1\",\"124.2\",\"122.93\",\"120.86\",\"117.43\",\"117.6\",\"116.54\",\"117.72\",\"117.6\",\"118.3\",\"115.19\",\"115.63\",\"118.12\",\"116.69\",\"117.88\",\"115.08\",\"113.3\",\"112.33\",\"114.0\",\"112.65\",\"107.9\",\"107.25\",\"108.66\",\"112.15\",\"114.45\",\"116.5\",\"115.0\",\"116.66\",\"119.8\",\"126.8\",\"125.17\",\"124.08\",\"125.13\",\"126.57\",\"128.07\",\"132.0\",\"130.86\",\"122.67\",\"122.58\",\"121.84\",\"119.04\",\"122.36\",\"121.38\",\"121.41\",\"120.57\",\"117.6\",\"118.1\",\"120.8\",\"120.33\",\"120.48\",\"124.26\",\"122.62\",\"122.71\",\"122.82\",\"122.36\",\"121.39\",\"122.53\",\"122.13\",\"122.16\",\"124.35\",\"128.19\",\"123.72\",\"122.85\",\"125.25\",\"124.96\",\"124.6\",\"124.95\",\"126.0\",\"123.79\",\"123.01\",\"123.2\",\"124.83\",\"125.0\",\"125.25\",\"124.2\",\"125.96\",\"127.61\",\"128.76\"],\"split coefficient\":[\"1.0\",\"1.0\",\"1.0\",\"1.0\",\"1.0\",\"1.0\",\"1.0\",\"1.0\",\"1.0\",\"1.0\",\"1.0\",\"1.0\",\"1.0\",\"1.0\",\"1.0\",\"1.0\",\"1.0\",\"1.0\",\"1.0\",\"1.0\",\"1.0\",\"1.0\",\"1.0\",\"1.0\",\"1.0\",\"1.0\",\"1.0\",\"1.0\",\"1.0\",\"1.0\",\"1.0\",\"1.0\",\"1.0\",\"1.0\",\"1.0\",\"1.0\",\"1.0\",\"1.0\",\"1.0\",\"1.0\",\"1.0\",\"1.0\",\"1.0\",\"1.0\",\"1.0\",\"1.0\",\"1.0\",\"1.0\",\"1.0\",\"1.0\",\"1.0\",\"1.0\",\"1.0\",\"1.0\",\"1.0\",\"1.0\",\"1.0\",\"1.0\",\"1.0\",\"1.0\",\"1.0\",\"1.0\",\"1.0\",\"1.0\",\"1.0\",\"1.0\",\"1.0\",\"1.0\",\"1.0\",\"1.0\",\"1.0\",\"1.0\",\"1.0\",\"1.0\",\"1.0\",\"1.0\",\"1.0\",\"1.0\",\"1.0\",\"1.0\",\"1.0\",\"1.0\",\"1.0\",\"1.0\",\"1.0\",\"1.0\",\"1.0\",\"1.0\",\"1.0\",\"1.0\",\"1.0\",\"1.0\",\"1.0\",\"1.0\",\"1.0\",\"1.0\",\"1.0\",\"1.0\",\"1.0\",\"1.0\"],\"volume\":[\"3574696\",\"3380494\",\"3487007\",\"3583222\",\"1761122\",\"2693889\",\"4337757\",\"6115671\",\"7552845\",\"3787962\",\"4530096\",\"4359601\",\"5050023\",\"4481416\",\"4803172\",\"6513517\",\"5395024\",\"8318500\",\"5522760\",\"4548161\",\"3690737\",\"5099334\",\"5987991\",\"2091186\",\"4135894\",\"7535949\",\"5655119\",\"5024593\",\"3439648\",\"4606828\",\"4134455\",\"5293385\",\"4683512\",\"6500799\",\"4289601\",\"5622756\",\"8992152\",\"5249171\",\"4902206\",\"5800071\",\"4204287\",\"5311497\",\"7923882\",\"6760241\",\"9427321\",\"5936106\",\"7203366\",\"3893362\",\"7858158\",\"9755308\",\"21501073\",\"7478735\",\"4714320\",\"3389301\",\"3730139\",\"5406088\",\"4635115\",\"8353704\",\"25288926\",\"2815663\",\"3872265\",\"3050949\",\"2925228\",\"3211661\",\"3261235\",\"2130564\",\"3509576\",\"2953686\",\"3546160\",\"3939398\",\"2957809\",\"5311441\",\"5391570\",\"3171262\",\"3789458\",\"2915221\",\"3641887\",\"3548091\",\"3978805\",\"3770678\",\"5210292\",\"6018238\",\"5716750\",\"6592430\",\"3155623\",\"4827879\",\"3099940\",\"3422654\",\"3388687\",\"2977697\",\"4070816\",\"3385051\",\"2561164\",\"3743949\",\"2882355\",\"3336459\",\"2963753\",\"3171258\",\"3530177\",\"5001176\"]},\"selected\":{\"id\":\"15615\"},\"selection_policy\":{\"id\":\"15616\"}},\"id\":\"15591\",\"type\":\"ColumnDataSource\"},{\"attributes\":{\"click_policy\":\"hide\",\"items\":[{\"id\":\"15618\"},{\"id\":\"15647\"}],\"location\":\"bottom_left\"},\"id\":\"15617\",\"type\":\"Legend\"},{\"attributes\":{\"months\":[0,2,4,6,8,10]},\"id\":\"15611\",\"type\":\"MonthsTicker\"},{\"attributes\":{\"active_drag\":\"auto\",\"active_inspect\":\"auto\",\"active_multi\":null,\"active_scroll\":\"auto\",\"active_tap\":\"auto\",\"tools\":[{\"id\":\"15585\"},{\"id\":\"15586\"},{\"id\":\"15648\"}]},\"id\":\"15588\",\"type\":\"Toolbar\"},{\"attributes\":{\"below\":[{\"id\":\"15577\"}],\"center\":[{\"id\":\"15580\"},{\"id\":\"15584\"},{\"id\":\"15617\"}],\"left\":[{\"id\":\"15581\"}],\"plot_height\":350,\"plot_width\":700,\"renderers\":[{\"id\":\"15595\"},{\"id\":\"15623\"}],\"title\":{\"id\":\"15567\"},\"toolbar\":{\"id\":\"15588\"},\"x_range\":{\"id\":\"15569\"},\"x_scale\":{\"id\":\"15573\"},\"y_range\":{\"id\":\"15571\"},\"y_scale\":{\"id\":\"15575\"}},\"id\":\"15566\",\"subtype\":\"Figure\",\"type\":\"Plot\"},{\"attributes\":{\"text\":\"IBM stock: Open, & Close\"},\"id\":\"15567\",\"type\":\"Title\"},{\"attributes\":{\"axis\":{\"id\":\"15581\"},\"dimension\":1,\"ticker\":null},\"id\":\"15584\",\"type\":\"Grid\"},{\"attributes\":{\"callback\":null,\"formatters\":{\"@date\":\"datetime\"},\"mode\":\"vline\",\"point_policy\":\"follow_mouse\",\"renderers\":[{\"id\":\"15595\"}],\"show_arrow\":false,\"tooltips\":[[\"Date\",\"@date{%F}\"],[\"Open\",\"@{open}\"],[\"Close\",\"@{close}\"]]},\"id\":\"15648\",\"type\":\"HoverTool\"},{\"attributes\":{\"days\":[1,8,15,22]},\"id\":\"15608\",\"type\":\"DaysTicker\"},{\"attributes\":{\"mantissas\":[1,2,5],\"max_interval\":500.0,\"num_minor_ticks\":0},\"id\":\"15603\",\"type\":\"AdaptiveTicker\"},{\"attributes\":{\"months\":[0,4,8]},\"id\":\"15612\",\"type\":\"MonthsTicker\"},{\"attributes\":{\"data_source\":{\"id\":\"15591\"},\"glyph\":{\"id\":\"15593\"},\"hover_glyph\":null,\"muted_glyph\":null,\"nonselection_glyph\":{\"id\":\"15594\"},\"selection_glyph\":null,\"view\":{\"id\":\"15596\"}},\"id\":\"15595\",\"type\":\"GlyphRenderer\"}],\"root_ids\":[\"15652\"]},\"title\":\"Bokeh Application\",\"version\":\"2.2.3\"}};\n",
       "  var render_items = [{\"docid\":\"2ec1ca7e-78ff-47eb-9d25-f03b45e1950b\",\"root_ids\":[\"15652\"],\"roots\":{\"15652\":\"3c624468-9a8d-4a48-905c-8fdf9ef24b81\"}}];\n",
       "  root.Bokeh.embed.embed_items_notebook(docs_json, render_items);\n",
       "\n",
       "  }\n",
       "  if (root.Bokeh !== undefined) {\n",
       "    embed_document(root);\n",
       "  } else {\n",
       "    var attempts = 0;\n",
       "    var timer = setInterval(function(root) {\n",
       "      if (root.Bokeh !== undefined) {\n",
       "        clearInterval(timer);\n",
       "        embed_document(root);\n",
       "      } else {\n",
       "        attempts++;\n",
       "        if (attempts > 100) {\n",
       "          clearInterval(timer);\n",
       "          console.log(\"Bokeh: ERROR: Unable to run BokehJS code because BokehJS library is missing\");\n",
       "        }\n",
       "      }\n",
       "    }, 10, root)\n",
       "  }\n",
       "})(window);"
      ],
      "application/vnd.bokehjs_exec.v0+json": ""
     },
     "metadata": {
      "application/vnd.bokehjs_exec.v0+json": {
       "id": "15652"
      }
     },
     "output_type": "display_data"
    }
   ],
   "source": [
    "from bokeh.models import Range1d\n",
    "from bokeh.models import CustomJS, DateSlider\n",
    "from bokeh.layouts import column\n",
    "\n",
    "tips = [(\"Date\",'@date{%F}')]\n",
    "handle_grabbed = False\n",
    "for key,val in appvars.items():\n",
    "    if key!='symbol':\n",
    "        color = colors_dict[key]\n",
    "        l, tip = make_line(df,p,val,color)\n",
    "        if l is not None:\n",
    "            tips.append(tip)\n",
    "            if not handle_grabbed:\n",
    "                rndr = l\n",
    "                handle_grabbed = True            \n",
    "\n",
    "# tips = [(\"Date\",'@date{%F}'),(\"Open\",'@open'),(\"Close\",'@close'), (\"Adj. Close\", '@{adjusted close}')]\n",
    "hover = HoverTool(tooltips=tips, mode='vline', point_policy='follow_mouse', show_arrow=False, renderers=[rndr], formatters = {'@date':'datetime'})\n",
    "p.add_tools(hover)\n",
    "\n",
    "callback = CustomJS(args=dict(x_range=p.x_range), code=\"\"\"\n",
    "    var right = cb_obj.value\n",
    "    var left = right - 2592000000\n",
    "    x_range.start = left\n",
    "    x_range.end = right\n",
    "\"\"\")\n",
    "slider = DateSlider(start=left, end=right, value=right, step=86400000, title='End Date')\n",
    "# slider.format('datetime')\n",
    "slider.js_on_change('value', callback)\n",
    "\n",
    "p.legend.location = \"bottom_left\"\n",
    "p.legend.click_policy=\"hide\"\n",
    "\n",
    "p.x_range.start = left\n",
    "p.x_range.end = right\n",
    "layout = column(slider, p)\n",
    "show(layout)"
   ]
  },
  {
   "cell_type": "code",
   "execution_count": 72,
   "metadata": {},
   "outputs": [
    {
     "data": {
      "text/plain": [
       "'0[.]00'"
      ]
     },
     "execution_count": 72,
     "metadata": {},
     "output_type": "execute_result"
    }
   ],
   "source": [
    "slider.format"
   ]
  },
  {
   "cell_type": "code",
   "execution_count": null,
   "metadata": {},
   "outputs": [],
   "source": [
    "p2 = figure(x_axis_type=\"datetime\", title=title_str, plot_height=350, plot_width=700)\n",
    "l1 = p2.line(df.index, df['close'], line_width=2, line_color=colors_dict['close'], alpha = 0.5)\n",
    "show(p2)"
   ]
  },
  {
   "cell_type": "code",
   "execution_count": null,
   "metadata": {},
   "outputs": [],
   "source": [
    "response['Time Series (Daily)']"
   ]
  },
  {
   "cell_type": "code",
   "execution_count": null,
   "metadata": {},
   "outputs": [],
   "source": [
    "response"
   ]
  },
  {
   "cell_type": "code",
   "execution_count": null,
   "metadata": {},
   "outputs": [],
   "source": []
  }
 ],
 "metadata": {
  "kernelspec": {
   "display_name": "base",
   "language": "python",
   "name": "base"
  },
  "language_info": {
   "codemirror_mode": {
    "name": "ipython",
    "version": 3
   },
   "file_extension": ".py",
   "mimetype": "text/x-python",
   "name": "python",
   "nbconvert_exporter": "python",
   "pygments_lexer": "ipython3",
   "version": "3.8.3"
  }
 },
 "nbformat": 4,
 "nbformat_minor": 4
}
